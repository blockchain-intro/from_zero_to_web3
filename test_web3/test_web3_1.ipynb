{
 "cells": [
  {
   "cell_type": "markdown",
   "metadata": {},
   "source": [
    "# Web3.py core API"
   ]
  },
  {
   "cell_type": "markdown",
   "metadata": {},
   "source": [
    "## Web3 API"
   ]
  },
  {
   "cell_type": "code",
   "execution_count": 1,
   "metadata": {},
   "outputs": [],
   "source": [
    "from web3 import Web3"
   ]
  },
  {
   "cell_type": "markdown",
   "metadata": {},
   "source": [
    "### Providers"
   ]
  },
  {
   "cell_type": "code",
   "execution_count": 2,
   "metadata": {},
   "outputs": [],
   "source": [
    "\n",
    "w3 = Web3(Web3.EthereumTesterProvider())\n",
    "\n",
    "# w3 = Web3(Web3.HTTPProvider())\n",
    "\n",
    "# w3 = Web3(Web3.IPCProvider())\n"
   ]
  },
  {
   "cell_type": "markdown",
   "metadata": {},
   "source": [
    "### Attributes"
   ]
  },
  {
   "cell_type": "code",
   "execution_count": 3,
   "metadata": {},
   "outputs": [
    {
     "data": {
      "text/plain": [
       "('5.29.1', 'EthereumTester/0.6.0b6/linux/python3.10.4')"
      ]
     },
     "execution_count": 3,
     "metadata": {},
     "output_type": "execute_result"
    }
   ],
   "source": [
    "w3.api, w3.clientVersion"
   ]
  },
  {
   "cell_type": "markdown",
   "metadata": {},
   "source": [
    "### Encode and Decode"
   ]
  },
  {
   "cell_type": "code",
   "execution_count": 4,
   "metadata": {},
   "outputs": [
    {
     "data": {
      "text/plain": [
       "('0x10', 'cowmÙ', b'\\x01')"
      ]
     },
     "execution_count": 4,
     "metadata": {},
     "output_type": "execute_result"
    }
   ],
   "source": [
    "w3.toHex(16),w3.toText(0x636f776dc399),w3.toBytes(True)"
   ]
  },
  {
   "cell_type": "code",
   "execution_count": 5,
   "metadata": {},
   "outputs": [
    {
     "data": {
      "text/plain": [
       "('1101', '{\"zeor\": 0, \"all\": 9999}')"
      ]
     },
     "execution_count": 5,
     "metadata": {},
     "output_type": "execute_result"
    }
   ],
   "source": [
    "w3.toJSON(1101), w3.toJSON({'zeor': 0, 'all': 9999})"
   ]
  },
  {
   "cell_type": "markdown",
   "metadata": {},
   "source": [
    "### Currency Conversions\n",
    "货币转换：单位对应参考[以太币单位兑换](http://t.zoukankan.com/peteremperor-p-15650363.html)\n",
    "- toWei：wei单位的面额；\n",
    "- fromWei：wei转换为其他单位的面额。"
   ]
  },
  {
   "cell_type": "code",
   "execution_count": 6,
   "metadata": {},
   "outputs": [
    {
     "data": {
      "text/plain": [
       "(1000000000000000000, Decimal('1'))"
      ]
     },
     "execution_count": 6,
     "metadata": {},
     "output_type": "execute_result"
    }
   ],
   "source": [
    "# 1个eth，等于1e18 wei\n",
    "w3.toWei(1, 'ether'), w3.fromWei(1000000000000000000, 'ether')"
   ]
  },
  {
   "cell_type": "markdown",
   "metadata": {},
   "source": [
    "### Addresses"
   ]
  },
  {
   "cell_type": "code",
   "execution_count": 7,
   "metadata": {},
   "outputs": [
    {
     "data": {
      "text/plain": [
       "(True, True)"
      ]
     },
     "execution_count": 7,
     "metadata": {},
     "output_type": "execute_result"
    }
   ],
   "source": [
    "# 判断address，附带校验和\n",
    "w3.isAddress('0xfA84C424C82fca880B72F94f3E3e804f72faCAD8'),w3.isChecksumAddress('0xfA84C424C82fca880B72F94f3E3e804f72faCAD8')"
   ]
  },
  {
   "cell_type": "code",
   "execution_count": 8,
   "metadata": {},
   "outputs": [
    {
     "data": {
      "text/plain": [
       "'0xfA84C424C82fca880B72F94f3E3e804f72faCAD8'"
      ]
     },
     "execution_count": 8,
     "metadata": {},
     "output_type": "execute_result"
    }
   ],
   "source": [
    "# 返回校验和的address\n",
    "w3.toChecksumAddress('0xfA84C424C82fca880B72F94f3E3e804f72faCAD8')"
   ]
  },
  {
   "cell_type": "markdown",
   "metadata": {},
   "source": [
    "### Cryptographic Hashing\n",
    "密码哈希处理"
   ]
  },
  {
   "cell_type": "code",
   "execution_count": 9,
   "metadata": {},
   "outputs": [
    {
     "data": {
      "text/plain": [
       "(HexBytes('0xd7278090a36507640ea6b7a0034b69b0d240766fa3f98e3722be93c613b29d2e'),\n",
       " HexBytes('0x4e03657aea45a94fc7d47ba826c8d667c0d1e6e33a64a036ec44f58fa12d6c45'))"
      ]
     },
     "execution_count": 9,
     "metadata": {},
     "output_type": "execute_result"
    }
   ],
   "source": [
    "# smart contract 的abi encode\n",
    "w3.keccak(0x747874),w3.solidityKeccak(['uint8', 'uint8', 'uint8'], [97, 98, 99])"
   ]
  },
  {
   "cell_type": "markdown",
   "metadata": {},
   "source": [
    "### Check Encodability"
   ]
  },
  {
   "cell_type": "code",
   "execution_count": 10,
   "metadata": {},
   "outputs": [
    {
     "data": {
      "text/plain": [
       "(True, False)"
      ]
     },
     "execution_count": 10,
     "metadata": {},
     "output_type": "execute_result"
    }
   ],
   "source": [
    "w3.is_encodable('bytes2', '0x1234'), w3.is_encodable('bytes2', b'123')"
   ]
  },
  {
   "cell_type": "markdown",
   "metadata": {},
   "source": [
    "### RPC API Modules\n",
    "\n",
    "- Web3.eth. ，包含各属性以及RPC APIs交互的方法\n",
    "- Web3.miner.xx\n",
    "- Web3.pm.xxx\n",
    "- Web3.geth.xxxx\n",
    "- Web3.parity.xxxxx\n",
    "\n",
    "下文对各module展开简介。"
   ]
  },
  {
   "cell_type": "markdown",
   "metadata": {},
   "source": [
    "### External Modules\n",
    "外置第三方module"
   ]
  },
  {
   "cell_type": "markdown",
   "metadata": {},
   "source": [
    "## web3.eth API\n",
    "\n",
    "提供和RPC APIs基础交互的属性和方法"
   ]
  },
  {
   "cell_type": "markdown",
   "metadata": {},
   "source": [
    "### Properties"
   ]
  },
  {
   "cell_type": "code",
   "execution_count": 11,
   "metadata": {},
   "outputs": [
    {
     "data": {
      "text/plain": [
       "(AttributeDict({'number': 0,\n",
       "  'hash': HexBytes('0xe0e79841a9ed558c387252cad2b84ff40f1cff01c95ef3347ca23a342483c9b8'),\n",
       "  'parentHash': HexBytes('0x0000000000000000000000000000000000000000000000000000000000000000'),\n",
       "  'nonce': HexBytes('0x000000000000002a'),\n",
       "  'sha3Uncles': HexBytes('0x1dcc4de8dec75d7aab85b567b6ccd41ad312451b948a7413f0a142fd40d49347'),\n",
       "  'logs_bloom': 0,\n",
       "  'transactionsRoot': HexBytes('0x56e81f171bcc55a6ff8345e692c0f86e5b48e01b996cadc001622fb5e363b421'),\n",
       "  'receipts_root': '0x56e81f171bcc55a6ff8345e692c0f86e5b48e01b996cadc001622fb5e363b421',\n",
       "  'stateRoot': HexBytes('0xf1588db9a9f1ed91effabdec31f93cb4212b008c8b8ba047fd55fabebf6fd727'),\n",
       "  'miner': '0x0000000000000000000000000000000000000000',\n",
       "  'difficulty': 131072,\n",
       "  'totalDifficulty': 131072,\n",
       "  'size': 517,\n",
       "  'extraData': HexBytes('0x0000000000000000000000000000000000000000000000000000000000000000'),\n",
       "  'gasLimit': 30029122,\n",
       "  'gasUsed': 0,\n",
       "  'timestamp': 1655865717,\n",
       "  'transactions': [],\n",
       "  'uncles': [],\n",
       "  'baseFeePerGas': 1000000000}),\n",
       " HexBytes('0x000000000000002a'))"
      ]
     },
     "execution_count": 11,
     "metadata": {},
     "output_type": "execute_result"
    }
   ],
   "source": [
    "block = w3.eth.get_block('latest')\n",
    "block, block.nonce"
   ]
  },
  {
   "cell_type": "code",
   "execution_count": 12,
   "metadata": {},
   "outputs": [
    {
     "data": {
      "text/plain": [
       "(<web3._utils.empty.Empty at 0x7f3ef8a0e440>, 'latest')"
      ]
     },
     "execution_count": 12,
     "metadata": {},
     "output_type": "execute_result"
    }
   ],
   "source": [
    "w3.eth.default_account, w3.eth.default_block"
   ]
  },
  {
   "cell_type": "code",
   "execution_count": 13,
   "metadata": {},
   "outputs": [
    {
     "data": {
      "text/plain": [
       "(False,\n",
       " '0x7E5F4552091A69125d5DfCb7b8C2659029395Bdf',\n",
       " False,\n",
       " 0,\n",
       " 1000000000,\n",
       " 1000000000)"
      ]
     },
     "execution_count": 13,
     "metadata": {},
     "output_type": "execute_result"
    }
   ],
   "source": [
    "w3.eth.syncing, w3.eth.coinbase, w3.eth.mining, w3.eth.hashrate, w3.eth.max_priority_fee, w3.eth.gas_price"
   ]
  },
  {
   "cell_type": "code",
   "execution_count": 14,
   "metadata": {},
   "outputs": [
    {
     "name": "stderr",
     "output_type": "stream",
     "text": [
      "/home/codespace/.local/lib/python3.10/site-packages/web3/eth.py:572: DeprecationWarning: This method has been deprecated in some clients.\n",
      "  warnings.warn(\n"
     ]
    },
    {
     "data": {
      "text/plain": [
       "(['0x7E5F4552091A69125d5DfCb7b8C2659029395Bdf',\n",
       "  '0x2B5AD5c4795c026514f8317c7a215E218DcCD6cF',\n",
       "  '0x6813Eb9362372EEF6200f3b1dbC3f819671cBA69',\n",
       "  '0x1efF47bc3a10a45D4B230B5d10E37751FE6AA718',\n",
       "  '0xe1AB8145F7E55DC933d51a18c793F901A3A0b276',\n",
       "  '0xE57bFE9F44b819898F47BF37E5AF72a0783e1141',\n",
       "  '0xd41c057fd1c78805AAC12B0A94a405c0461A6FBb',\n",
       "  '0xF1F6619B38A98d6De0800F1DefC0a6399eB6d30C',\n",
       "  '0xF7Edc8FA1eCc32967F827C9043FcAe6ba73afA5c',\n",
       "  '0x4CCeBa2d7D2B4fdcE4304d3e09a1fea9fbEb1528'],\n",
       " 0,\n",
       " '63',\n",
       " 61)"
      ]
     },
     "execution_count": 14,
     "metadata": {},
     "output_type": "execute_result"
    }
   ],
   "source": [
    "w3.eth.accounts, w3.eth.block_number, w3.eth.protocol_version, w3.eth.chain_id"
   ]
  },
  {
   "cell_type": "markdown",
   "metadata": {},
   "source": [
    "### Methods"
   ]
  },
  {
   "cell_type": "code",
   "execution_count": 15,
   "metadata": {},
   "outputs": [
    {
     "data": {
      "text/plain": [
       "1000000000000000000000000"
      ]
     },
     "execution_count": 15,
     "metadata": {},
     "output_type": "execute_result"
    }
   ],
   "source": [
    "# block下的account的balance，结余\n",
    "w3.eth.get_balance('0x7E5F4552091A69125d5DfCb7b8C2659029395Bdf')"
   ]
  },
  {
   "cell_type": "code",
   "execution_count": 16,
   "metadata": {},
   "outputs": [
    {
     "data": {
      "text/plain": [
       "(0,\n",
       " AttributeDict({'number': 1,\n",
       "  'hash': HexBytes('0x77a3067bcffe7c6680c20e77c5c10030397a48f9832f9a9e3e4ce81aa0db05c3'),\n",
       "  'parentHash': HexBytes('0xe0e79841a9ed558c387252cad2b84ff40f1cff01c95ef3347ca23a342483c9b8'),\n",
       "  'nonce': HexBytes('0x0000000000000042'),\n",
       "  'sha3Uncles': HexBytes('0x1dcc4de8dec75d7aab85b567b6ccd41ad312451b948a7413f0a142fd40d49347'),\n",
       "  'logs_bloom': 0,\n",
       "  'transactionsRoot': HexBytes('0x56e81f171bcc55a6ff8345e692c0f86e5b48e01b996cadc001622fb5e363b421'),\n",
       "  'receipts_root': '0x56e81f171bcc55a6ff8345e692c0f86e5b48e01b996cadc001622fb5e363b421',\n",
       "  'stateRoot': HexBytes('0xf1588db9a9f1ed91effabdec31f93cb4212b008c8b8ba047fd55fabebf6fd727'),\n",
       "  'miner': '0x0000000000000000000000000000000000000000',\n",
       "  'difficulty': 131136,\n",
       "  'totalDifficulty': 131136,\n",
       "  'size': 517,\n",
       "  'extraData': HexBytes('0x0000000000000000000000000000000000000000000000000000000000000000'),\n",
       "  'gasLimit': 30029122,\n",
       "  'gasUsed': 0,\n",
       "  'timestamp': 1655865718,\n",
       "  'transactions': [],\n",
       "  'uncles': [],\n",
       "  'baseFeePerGas': 875000000}))"
      ]
     },
     "execution_count": 16,
     "metadata": {},
     "output_type": "execute_result"
    }
   ],
   "source": [
    "w3.eth.get_block_number(), w3.eth.get_block(1)"
   ]
  },
  {
   "cell_type": "code",
   "execution_count": 17,
   "metadata": {},
   "outputs": [],
   "source": [
    "# 返回存储位置，以及attribute\n",
    "# w3.eth.get_storage_at('0xd41c057fd1c78805AAC12B0A94a405c0461A6FBb', 0)\n",
    "# w3.eth.get_proof('0x6C8f2A135f6ed072DE4503Bd7C4999a1a17F824B', [0], 3391)"
   ]
  },
  {
   "cell_type": "code",
   "execution_count": 18,
   "metadata": {},
   "outputs": [
    {
     "data": {
      "text/plain": [
       "HexBytes('0x')"
      ]
     },
     "execution_count": 18,
     "metadata": {},
     "output_type": "execute_result"
    }
   ],
   "source": [
    "# private key return 0x\n",
    "w3.eth.get_code('0xd41c057fd1c78805AAC12B0A94a405c0461A6FBb')"
   ]
  },
  {
   "cell_type": "code",
   "execution_count": 19,
   "metadata": {},
   "outputs": [
    {
     "data": {
      "text/plain": [
       "0"
      ]
     },
     "execution_count": 19,
     "metadata": {},
     "output_type": "execute_result"
    }
   ],
   "source": [
    "# 根据hash，返回特定交易信息\n",
    "#w3.eth.get_transaction()\n",
    "w3.eth.get_uncle_count(0)"
   ]
  },
  {
   "cell_type": "raw",
   "metadata": {},
   "source": [
    "...... and so on"
   ]
  },
  {
   "cell_type": "markdown",
   "metadata": {},
   "source": [
    "### Filter\n",
    "用于交互时的过滤API"
   ]
  },
  {
   "cell_type": "code",
   "execution_count": 20,
   "metadata": {},
   "outputs": [
    {
     "data": {
      "text/plain": [
       "[]"
      ]
     },
     "execution_count": 20,
     "metadata": {},
     "output_type": "execute_result"
    }
   ],
   "source": [
    "w3.eth.get_filter_changes(w3.eth.filter('pending').filter_id)"
   ]
  },
  {
   "cell_type": "code",
   "execution_count": 21,
   "metadata": {},
   "outputs": [
    {
     "data": {
      "text/plain": [
       "[]"
      ]
     },
     "execution_count": 21,
     "metadata": {},
     "output_type": "execute_result"
    }
   ],
   "source": [
    "filt = w3.eth.filter('latest')\n",
    "w3.eth.get_filter_changes(filt.filter_id)"
   ]
  },
  {
   "cell_type": "markdown",
   "metadata": {},
   "source": [
    "### Contracts\n",
    "提供address，返回abi定义的contract实例\n"
   ]
  },
  {
   "cell_type": "code",
   "execution_count": 22,
   "metadata": {},
   "outputs": [],
   "source": [
    "# contract = w3.eth.contract(address='mycontract.eth', abi=...)"
   ]
  },
  {
   "cell_type": "markdown",
   "metadata": {},
   "source": [
    "## web3.net API"
   ]
  },
  {
   "cell_type": "code",
   "execution_count": 25,
   "metadata": {},
   "outputs": [
    {
     "data": {
      "text/plain": [
       "(False, 0, '1')"
      ]
     },
     "execution_count": 25,
     "metadata": {},
     "output_type": "execute_result"
    }
   ],
   "source": [
    "w3.net.listening, w3.net.peer_count, w3.net.version"
   ]
  },
  {
   "cell_type": "markdown",
   "metadata": {},
   "source": [
    "## web3.miner API\n",
    "\n",
    "Geth client支持的RPC交互APIs"
   ]
  },
  {
   "cell_type": "code",
   "execution_count": 32,
   "metadata": {},
   "outputs": [],
   "source": [
    "# w3.geth.miner.make_dag(64)\n",
    "# w3.geth.miner.set_extra('abcdefghijklmnopqrstuvwxyzABCDEF')\n",
    "# web3.geth.miner.set_gas_price(19999999999)\n",
    "# w3.geth.miner.start_auto_dag()\n",
    "# w3.geth.miner.start(2)\n",
    "# w3.geth.miner.stop()"
   ]
  },
  {
   "cell_type": "markdown",
   "metadata": {},
   "source": [
    "## web3.pm API\n",
    "\n",
    "使用JSON-RPC进行交互"
   ]
  },
  {
   "cell_type": "markdown",
   "metadata": {},
   "source": [
    "## web3.geth API"
   ]
  },
  {
   "cell_type": "markdown",
   "metadata": {},
   "source": [
    "### GethAdmin"
   ]
  },
  {
   "cell_type": "code",
   "execution_count": 38,
   "metadata": {},
   "outputs": [],
   "source": [
    "# w3.geth.admin.datadir()\n",
    "# w3.geth.admin.node_info()\n",
    "# w3.geth.admin.add_peer()\n",
    "# w3.geth.admin.start_rpc(host='localhost', port=8545, cors='', apis='eth,net,web3') \n",
    "# w3.geth.admin.start_rpc() \n",
    "# w3.geth.admin.start_ws()\n",
    "# w3.geth.admin.stop_rpc()\n",
    "# w3.geth.admin.stop_ws()"
   ]
  },
  {
   "cell_type": "markdown",
   "metadata": {},
   "source": [
    "### GethPersonal"
   ]
  },
  {
   "cell_type": "code",
   "execution_count": 37,
   "metadata": {},
   "outputs": [],
   "source": [
    "# w3.geth.personal.list_accounts()\n",
    "# w3.geth.personal.list_wallets()\n",
    "# w3.geth.personal.import_raw_key(some_private_key, 'the-passphrase')\n",
    "# w3.geth.personal.new_account('the-passphrase')\n",
    "# w3.geth.personal.lock_account('0xd3CdA913deB6f67967B99D67aCDFa1712C293601')\n",
    "# w3.geth.personal.unlock_account('0xd3CdA913deB6f67967B99D67aCDFa1712C293601', 'wrong-passphrase')"
   ]
  },
  {
   "cell_type": "markdown",
   "metadata": {},
   "source": [
    "### GethTxPool"
   ]
  },
  {
   "cell_type": "code",
   "execution_count": 39,
   "metadata": {},
   "outputs": [],
   "source": [
    "# w3.geth.txpool.inspect()\n",
    "# w3.geth.txpool.content()"
   ]
  },
  {
   "cell_type": "markdown",
   "metadata": {},
   "source": []
  },
  {
   "cell_type": "markdown",
   "metadata": {},
   "source": [
    "## web3.parity API\n",
    "\n",
    "Parity支持使用JSON-RPC进行交互，后期不再被维护"
   ]
  },
  {
   "cell_type": "markdown",
   "metadata": {},
   "source": [
    "## Web3.GasPrice API"
   ]
  },
  {
   "cell_type": "code",
   "execution_count": 40,
   "metadata": {},
   "outputs": [],
   "source": [
    "w3.eth.generate_gas_price()"
   ]
  },
  {
   "cell_type": "code",
   "execution_count": 41,
   "metadata": {},
   "outputs": [],
   "source": [
    "def value_based_gas_price_strategy(web3, transaction_params):\n",
    "    if transaction_params['value'] > Web3.toWei(1, 'ether'):\n",
    "        return Web3.toWei(20, 'gwei')\n",
    "    else:\n",
    "        return Web3.toWei(5, 'gwei')\n",
    "\n",
    "w3.eth.set_gas_price_strategy(value_based_gas_price_strategy)"
   ]
  },
  {
   "cell_type": "code",
   "execution_count": 1,
   "metadata": {},
   "outputs": [],
   "source": [
    "from web3 import Web3, middleware\n",
    "from web3.gas_strategies.time_based import medium_gas_price_strategy\n",
    "\n",
    "w3 = Web3()\n",
    "w3.eth.set_gas_price_strategy(medium_gas_price_strategy)\n",
    "\n",
    "w3.middleware_onion.add(middleware.time_based_cache_middleware)\n",
    "w3.middleware_onion.add(middleware.latest_block_based_cache_middleware)\n",
    "w3.middleware_onion.add(middleware.simple_cache_middleware)"
   ]
  },
  {
   "cell_type": "markdown",
   "metadata": {},
   "source": [
    "## Constants"
   ]
  },
  {
   "cell_type": "code",
   "execution_count": 6,
   "metadata": {},
   "outputs": [
    {
     "data": {
      "text/plain": [
       "('0x0000000000000000000000000000000000000000',\n",
       " '0xffffffffffffffffffffffffffffffffffffffffffffffffffffffffffffffff',\n",
       " '0x0000000000000000000000000000000000000000000000000000000000000000',\n",
       " 1000000000000000000)"
      ]
     },
     "execution_count": 6,
     "metadata": {},
     "output_type": "execute_result"
    }
   ],
   "source": [
    "import web3\n",
    "web3.constants.ADDRESS_ZERO, web3.constants.MAX_INT, web3.constants.HASH_ZERO, web3.constants.WEI_PER_ETHER"
   ]
  },
  {
   "cell_type": "code",
   "execution_count": null,
   "metadata": {},
   "outputs": [],
   "source": []
  }
 ],
 "metadata": {
  "kernelspec": {
   "display_name": "Python 3.10.4 64-bit",
   "language": "python",
   "name": "python3"
  },
  "language_info": {
   "codemirror_mode": {
    "name": "ipython",
    "version": 3
   },
   "file_extension": ".py",
   "mimetype": "text/x-python",
   "name": "python",
   "nbconvert_exporter": "python",
   "pygments_lexer": "ipython3",
   "version": "3.10.4"
  },
  "orig_nbformat": 4,
  "vscode": {
   "interpreter": {
    "hash": "4f946df053fbf2b937619d3c5458e7af74262f9a954d8797ba0b27400bcafe06"
   }
  }
 },
 "nbformat": 4,
 "nbformat_minor": 2
}
