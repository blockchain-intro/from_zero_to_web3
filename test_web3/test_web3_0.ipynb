{
 "cells": [
  {
   "cell_type": "markdown",
   "metadata": {},
   "source": [
    "1. web3.py中，对区块链技术的核心概念，名词解释\n",
    "2. 主要介绍web3.py中core module组织，以及该lib的定位。\n",
    "\n",
    "- web3是什么\n",
    "- web3能做什么\n",
    "- web3的结构\n",
    "    1. core module\n",
    "    2. api pkg"
   ]
  },
  {
   "cell_type": "markdown",
   "metadata": {},
   "source": []
  }
 ],
 "metadata": {
  "language_info": {
   "name": "python"
  },
  "orig_nbformat": 4
 },
 "nbformat": 4,
 "nbformat_minor": 2
}
