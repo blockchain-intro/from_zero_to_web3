{
 "cells": [
  {
   "cell_type": "markdown",
   "metadata": {},
   "source": [
    "1. web3.py中，对区块链技术的核心概念，名词解释\n",
    "2. 主要介绍web3.py中core module组织，以及该lib的定位。\n",
    "\n",
    "- web3是什么\n",
    "- web3能做什么\n",
    "- web3的结构\n",
    "    1. core module\n",
    "    2. api pkg"
   ]
  },
  {
   "cell_type": "markdown",
   "metadata": {},
   "source": [
    "roadmap：\n",
    "1. 学习区块链的基础理论，参考\n",
    "   1. https://segmentfault.com/a/1190000040702589\n",
    "   2. https://shuwoom.com/?p=916\n",
    "2. 完整代码demo试运行，熟悉ethereum的使用和应用规范。\n",
    "3. 最后完整补充区块链的高阶理论部分（仅复制粘贴来收集理论部分，没有意义）。"
   ]
  },
  {
   "cell_type": "markdown",
   "metadata": {},
   "source": []
  },
  {
   "cell_type": "markdown",
   "metadata": {},
   "source": [
    "## TODO\n",
    "1. 测试geth客户端【P0】\n",
    "2. metamask + remix，基于浏览器在线实现智能合约的部署，与以太坊插件式交互【完成】\n",
    "3. Ganache + truffle，实现私链创建，和合约使用【P1】\n",
    "4. 复现完整DAPP开发过程【P2】"
   ]
  },
  {
   "cell_type": "markdown",
   "metadata": {},
   "source": [
    "## DAPP技术栈\n",
    "\n",
    "- ethereum技术栈：web3.py，solidity，truffle，geth(web3)\n",
    "- 前端技术栈：Node、Vue、Express等\n",
    "- 其他\n",
    "\n",
    "\n",
    "### 区块链开发\n",
    "- 方式1. geth客户端创建x链等所有功能，较“重”；使用remix在线部署智能合约。\n",
    "- 方式2. ganache创建私链；使用truffle管理智能合约生命周期。\n",
    "\n"
   ]
  },
  {
   "cell_type": "markdown",
   "metadata": {},
   "source": [
    "## tutorial文档补充\n",
    "- web3.py\n",
    "- solidity【P2】\n",
    "- truffle【P1】\n",
    "- geth【P0】"
   ]
  },
  {
   "cell_type": "markdown",
   "metadata": {},
   "source": []
  }
 ],
 "metadata": {
  "language_info": {
   "name": "python"
  },
  "orig_nbformat": 4
 },
 "nbformat": 4,
 "nbformat_minor": 2
}
