{
 "cells": [
  {
   "cell_type": "markdown",
   "metadata": {},
   "source": [
    "1. web3.py中，对区块链技术的核心概念，名词解释\n",
    "2. 主要介绍web3.py中core module组织，以及该lib的定位。\n",
    "\n",
    "- web3是什么\n",
    "- web3能做什么\n",
    "- web3的结构\n",
    "    1. core module\n",
    "    2. api pkg"
   ]
  },
  {
   "cell_type": "markdown",
   "metadata": {},
   "source": [
    "roadmap：\n",
    "1. 学习区块链的基础理论，参考\n",
    "   1. https://segmentfault.com/a/1190000040702589\n",
    "   2. https://shuwoom.com/?p=916\n",
    "2. 完整代码demo试运行，熟悉ethereum的使用和应用规范。\n",
    "3. 最后完整补充区块链的高阶理论部分（仅复制粘贴来收集理论部分，没有意义）。"
   ]
  },
  {
   "cell_type": "markdown",
   "metadata": {},
   "source": []
  }
 ],
 "metadata": {
  "language_info": {
   "name": "python"
  },
  "orig_nbformat": 4
 },
 "nbformat": 4,
 "nbformat_minor": 2
}
