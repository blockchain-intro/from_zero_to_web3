{
 "cells": [
  {
   "cell_type": "markdown",
   "metadata": {},
   "source": [
    "- eth：提供了操作区块链相关的方法\n",
    "- net：提供了查看p2p网络状态的方法\n",
    "- admin：提供了管理节点相关的方法\n",
    "- miner：提供启动和停止挖矿的方法\n",
    "- personal：提供了管理账户的方法\n",
    "- txpool：提供了查看交易内存池的方法\n",
    "- web3：除了包含以上对象中的方法外，还包含一些单位换算的方法"
   ]
  },
  {
   "cell_type": "markdown",
   "metadata": {},
   "source": []
  }
 ],
 "metadata": {
  "language_info": {
   "name": "python"
  },
  "orig_nbformat": 4
 },
 "nbformat": 4,
 "nbformat_minor": 2
}
