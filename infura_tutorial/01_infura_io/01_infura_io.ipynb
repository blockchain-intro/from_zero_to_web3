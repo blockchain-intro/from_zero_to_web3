{
 "cells": [
  {
   "cell_type": "markdown",
   "metadata": {},
   "source": [
    "# infura.io\n",
    "使用infura提供的node，部署合约，并实现测试方法。"
   ]
  },
  {
   "cell_type": "code",
   "execution_count": 1,
   "metadata": {},
   "outputs": [],
   "source": [
    "from configparser import ConfigParser\n",
    "from web3 import Web3\n",
    "import json"
   ]
  },
  {
   "cell_type": "code",
   "execution_count": 6,
   "metadata": {},
   "outputs": [
    {
     "data": {
      "text/plain": [
       "({'project_id': 'e98e8f4e0bd0476cbbd2839cc9a65aeb',\n",
       "  'project_secret': '1ae8bbdc2c3f4a4aa1b83db0275fc6b8',\n",
       "  'endpoint': 'https://ropsten.infura.io/v3/',\n",
       "  'contract_address': '0xb60ce47C7d7D6350D15382B5a5a0f054477Eb5e4',\n",
       "  'local_account': '0x15C2ec8BaDd9EB4097Dbe9Df3B29E5248B5E77fF'},\n",
       " {'address': '0xA1D91D7b6Bd771c53eF7B7d12805368B46E52467',\n",
       "  'key': '6e386a2de2dfac801bef3abcfcafbc6ac5892ff4168b0133fdbe787cc23be2c4'})"
      ]
     },
     "execution_count": 6,
     "metadata": {},
     "output_type": "execute_result"
    }
   ],
   "source": [
    "def read_params(file, section):\n",
    "    config = ConfigParser()\n",
    "    config.read(file, encoding='UTF-8')\n",
    "    conf = config.items(section)\n",
    "    return dict(conf)\n",
    "infura_conf = read_params('./config/env.ini', 'infura')\n",
    "my = read_params('./config/env.ini', 'AUTHOR')\n",
    "infura_conf, my"
   ]
  },
  {
   "cell_type": "code",
   "execution_count": 3,
   "metadata": {},
   "outputs": [
    {
     "data": {
      "text/plain": [
       "('https://ropsten.infura.io/v3/e98e8f4e0bd0476cbbd2839cc9a65aeb',\n",
       " <web3.main.Web3 at 0x7fc65417ca60>,\n",
       " True)"
      ]
     },
     "execution_count": 3,
     "metadata": {},
     "output_type": "execute_result"
    }
   ],
   "source": [
    "provider_ = infura_conf['endpoint'] + infura_conf['project_id']\n",
    "w3 = Web3(Web3.HTTPProvider(provider_))\n",
    "provider_,w3,w3.isConnected()"
   ]
  },
  {
   "cell_type": "code",
   "execution_count": 4,
   "metadata": {},
   "outputs": [
    {
     "data": {
      "text/plain": [
       "<web3._utils.datatypes.Contract at 0x7fc6753fa6b0>"
      ]
     },
     "execution_count": 4,
     "metadata": {},
     "output_type": "execute_result"
    }
   ],
   "source": [
    "with open('./../00_deploy_contract/build/contracts/Crowdfunding.json') as f:\n",
    "    contract_ = json.load(f)\n",
    "contract = w3.eth.contract(address=infura_conf['contract_address'], abi=contract_['abi'])\n",
    "contract"
   ]
  },
  {
   "cell_type": "code",
   "execution_count": 7,
   "metadata": {},
   "outputs": [
    {
     "data": {
      "text/plain": [
       "0"
      ]
     },
     "execution_count": 7,
     "metadata": {},
     "output_type": "execute_result"
    }
   ],
   "source": [
    "w3.fromWei(w3.eth.get_balance(my['address']), 'ether')"
   ]
  },
  {
   "cell_type": "code",
   "execution_count": 54,
   "metadata": {},
   "outputs": [],
   "source": [
    "transaction = {\n",
    "    'to': my['author_address'],\n",
    "    'value': 20000000000000000,\n",
    "    'gas': 2000000,\n",
    "    'maxFeePerGas': 2000000000,\n",
    "    'maxPriorityFeePerGas': 1000000000,\n",
    "    'nonce': 0,\n",
    "    'chainId': 3,\n",
    "}\n"
   ]
  },
  {
   "cell_type": "code",
   "execution_count": 55,
   "metadata": {},
   "outputs": [
    {
     "data": {
      "text/plain": [
       "'1670d96084e3c23a7c461f2fd1ea04b448f66a25c7f057d86d95927c8d5a92ba'"
      ]
     },
     "execution_count": 55,
     "metadata": {},
     "output_type": "execute_result"
    }
   ],
   "source": [
    "key = my['private_key']\n",
    "key"
   ]
  },
  {
   "cell_type": "code",
   "execution_count": 56,
   "metadata": {},
   "outputs": [
    {
     "data": {
      "text/plain": [
       "SignedTransaction(rawTransaction=HexBytes('0x02f8720380843b9aca008477359400831e848094755da5b4187564284a04a28fffd876483eaed96787470de4df82000080c080a09ef21df4c9a0bfcff142d8c5f9cf922d439c92ecc40b04ecf2c817aa74a58d10a0497a53c2f51e1778cbd1d0cc7579208bba0ebbc0c5c3e6800048b7f81c52438b'), hash=HexBytes('0x620cb392128fd5b3f8c74715ca406001f8939517fa1dfbe63195c9e422826f7e'), r=71893213815937401119965381726275777959190133774075063741952523283647611374864, s=33234971389471736744281591089187040776505290937574996115675860940711099777931, v=0)"
      ]
     },
     "execution_count": 56,
     "metadata": {},
     "output_type": "execute_result"
    }
   ],
   "source": [
    "signed = w3.eth.account.sign_transaction(transaction, key)\n",
    "signed"
   ]
  },
  {
   "cell_type": "code",
   "execution_count": 57,
   "metadata": {},
   "outputs": [
    {
     "data": {
      "text/plain": [
       "HexBytes('0x620cb392128fd5b3f8c74715ca406001f8939517fa1dfbe63195c9e422826f7e')"
      ]
     },
     "execution_count": 57,
     "metadata": {},
     "output_type": "execute_result"
    }
   ],
   "source": [
    "w3.eth.send_raw_transaction(signed.rawTransaction)  "
   ]
  },
  {
   "cell_type": "code",
   "execution_count": 59,
   "metadata": {},
   "outputs": [
    {
     "data": {
      "text/plain": [
       "Decimal('0.02')"
      ]
     },
     "execution_count": 59,
     "metadata": {},
     "output_type": "execute_result"
    }
   ],
   "source": [
    "w3.fromWei(w3.eth.get_balance(my['author_address']), 'ether')"
   ]
  },
  {
   "cell_type": "code",
   "execution_count": null,
   "metadata": {},
   "outputs": [],
   "source": []
  },
  {
   "cell_type": "code",
   "execution_count": null,
   "metadata": {},
   "outputs": [],
   "source": []
  }
 ],
 "metadata": {
  "kernelspec": {
   "display_name": "Python 3.10.4 64-bit",
   "language": "python",
   "name": "python3"
  },
  "language_info": {
   "codemirror_mode": {
    "name": "ipython",
    "version": 3
   },
   "file_extension": ".py",
   "mimetype": "text/x-python",
   "name": "python",
   "nbconvert_exporter": "python",
   "pygments_lexer": "ipython3",
   "version": "3.10.4"
  },
  "orig_nbformat": 4,
  "vscode": {
   "interpreter": {
    "hash": "4f946df053fbf2b937619d3c5458e7af74262f9a954d8797ba0b27400bcafe06"
   }
  }
 },
 "nbformat": 4,
 "nbformat_minor": 2
}
