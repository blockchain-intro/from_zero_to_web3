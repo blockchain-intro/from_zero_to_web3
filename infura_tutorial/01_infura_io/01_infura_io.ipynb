{
 "cells": [
  {
   "cell_type": "markdown",
   "metadata": {},
   "source": [
    "# infura.io\n",
    "\n",
    "使用infura提供的node，部署合约，并实现测试方法。\n",
    "\n",
    "- 封装web3 python-cli\n",
    "- 测试多个cli交易\n"
   ]
  },
  {
   "cell_type": "code",
   "execution_count": 1,
   "metadata": {},
   "outputs": [],
   "source": [
    "from configparser import ConfigParser\n",
    "from client import Client\n",
    "import time"
   ]
  },
  {
   "cell_type": "code",
   "execution_count": 2,
   "metadata": {},
   "outputs": [
    {
     "data": {
      "text/plain": [
       "({'project_id': 'e98e8f4e0bd0476cbbd2839cc9a65aeb',\n",
       "  'project_secret': '1ae8bbdc2c3f4a4aa1b83db0275fc6b8',\n",
       "  'endpoint': 'https://ropsten.infura.io/v3/',\n",
       "  'contract_address': '0xb60ce47C7d7D6350D15382B5a5a0f054477Eb5e4',\n",
       "  'local_account': '0x15C2ec8BaDd9EB4097Dbe9Df3B29E5248B5E77fF'},\n",
       " {'address': '0xA1D91D7b6Bd771c53eF7B7d12805368B46E52467',\n",
       "  'key': '6e386a2de2dfac801bef3abcfcafbc6ac5892ff4168b0133fdbe787cc23be2c4'})"
      ]
     },
     "execution_count": 2,
     "metadata": {},
     "output_type": "execute_result"
    }
   ],
   "source": [
    "def read_params(file, section):\n",
    "    config = ConfigParser()\n",
    "    config.read(file, encoding='UTF-8')\n",
    "    conf = config.items(section)\n",
    "    return dict(conf)\n",
    "infura_conf = read_params('./config/env.ini', 'infura')\n",
    "author = read_params('./config/env.ini', 'AUTHOR')\n",
    "infura_conf, author"
   ]
  },
  {
   "cell_type": "code",
   "execution_count": 3,
   "metadata": {},
   "outputs": [],
   "source": [
    "contract_conf = {\n",
    "    'path': './../00_deploy_contract/build/contracts/Crowdfunding.json',\n",
    "    'address': infura_conf['contract_address']\n",
    "}"
   ]
  },
  {
   "cell_type": "code",
   "execution_count": 4,
   "metadata": {},
   "outputs": [],
   "source": [
    "provider_ = infura_conf['endpoint'] + infura_conf['project_id']\n",
    "author_cli = Client(provider_, author['address'], author['key'], contract_conf)"
   ]
  },
  {
   "cell_type": "code",
   "execution_count": 5,
   "metadata": {},
   "outputs": [
    {
     "data": {
      "text/plain": [
       "('0xA1D91D7b6Bd771c53eF7B7d12805368B46E52467', Decimal('0.00002'))"
      ]
     },
     "execution_count": 5,
     "metadata": {},
     "output_type": "execute_result"
    }
   ],
   "source": [
    "author_cli._account,author_cli.get_balance('ether')"
   ]
  },
  {
   "cell_type": "code",
   "execution_count": 6,
   "metadata": {},
   "outputs": [
    {
     "data": {
      "text/plain": [
       "{'address': '0xF1C76aa199e490ABC5C37a86142E2d11E5abED52',\n",
       " 'key': '49c3a52465e2a66267da1fda7b1983dbbd49fa1730b2251f4e6b82ddfe77dd3a'}"
      ]
     },
     "execution_count": 6,
     "metadata": {},
     "output_type": "execute_result"
    }
   ],
   "source": [
    "tom = read_params('./config/env.ini', 'TOM')\n",
    "tom"
   ]
  },
  {
   "cell_type": "code",
   "execution_count": 7,
   "metadata": {},
   "outputs": [
    {
     "data": {
      "text/plain": [
       "('0xF1C76aa199e490ABC5C37a86142E2d11E5abED52', Decimal('4.999958999999853'))"
      ]
     },
     "execution_count": 7,
     "metadata": {},
     "output_type": "execute_result"
    }
   ],
   "source": [
    "tom_cli = Client(provider_, tom['address'], tom['key'], contract_conf)\n",
    "tom_cli._account,tom_cli.get_balance('ether')"
   ]
  },
  {
   "cell_type": "code",
   "execution_count": 10,
   "metadata": {},
   "outputs": [],
   "source": [
    "transaction = {\n",
    "    'to': author['address'],\n",
    "    'value': 20000000000000,\n",
    "    'gas': 2000000,\n",
    "    'maxFeePerGas': 2000000000,\n",
    "    'maxPriorityFeePerGas': 1000000000,\n",
    "    'nonce': 1,\n",
    "    'chainId': 3,\n",
    "}\n"
   ]
  },
  {
   "cell_type": "code",
   "execution_count": 11,
   "metadata": {},
   "outputs": [
    {
     "data": {
      "text/plain": [
       "HexBytes('0x0c4518e70f29bb747b0457d0e420f3745e079c6bc2fc413d69c2615ebc03b98e')"
      ]
     },
     "execution_count": 11,
     "metadata": {},
     "output_type": "execute_result"
    }
   ],
   "source": [
    "tom_cli.transact(transaction)"
   ]
  },
  {
   "cell_type": "code",
   "execution_count": 13,
   "metadata": {},
   "outputs": [],
   "source": [
    "time.sleep(3)"
   ]
  },
  {
   "cell_type": "code",
   "execution_count": 14,
   "metadata": {},
   "outputs": [
    {
     "data": {
      "text/plain": [
       "(Decimal('4.999917999999706'), Decimal('0.00004'))"
      ]
     },
     "execution_count": 14,
     "metadata": {},
     "output_type": "execute_result"
    }
   ],
   "source": [
    "tom_cli.get_balance('ether'), author_cli.get_balance('ether')"
   ]
  },
  {
   "cell_type": "code",
   "execution_count": null,
   "metadata": {},
   "outputs": [],
   "source": []
  },
  {
   "cell_type": "code",
   "execution_count": null,
   "metadata": {},
   "outputs": [],
   "source": []
  }
 ],
 "metadata": {
  "kernelspec": {
   "display_name": "Python 3.10.4 64-bit",
   "language": "python",
   "name": "python3"
  },
  "language_info": {
   "codemirror_mode": {
    "name": "ipython",
    "version": 3
   },
   "file_extension": ".py",
   "mimetype": "text/x-python",
   "name": "python",
   "nbconvert_exporter": "python",
   "pygments_lexer": "ipython3",
   "version": "3.10.4"
  },
  "orig_nbformat": 4,
  "vscode": {
   "interpreter": {
    "hash": "4f946df053fbf2b937619d3c5458e7af74262f9a954d8797ba0b27400bcafe06"
   }
  }
 },
 "nbformat": 4,
 "nbformat_minor": 2
}
