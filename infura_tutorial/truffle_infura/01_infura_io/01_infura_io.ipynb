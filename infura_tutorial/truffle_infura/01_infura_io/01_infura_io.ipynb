{
 "cells": [
  {
   "cell_type": "markdown",
   "metadata": {},
   "source": [
    "# infura.io\n",
    "\n",
    "使用infura提供的node，部署合约，并实现测试方法。\n",
    "\n",
    "- 封装web3 python-cli\n",
    "- 测试多个cli交易\n"
   ]
  },
  {
   "cell_type": "code",
   "execution_count": 1,
   "metadata": {},
   "outputs": [],
   "source": [
    "from client import Client\n",
    "from utils import read_params"
   ]
  },
  {
   "cell_type": "code",
   "execution_count": 2,
   "metadata": {},
   "outputs": [
    {
     "data": {
      "text/plain": [
       "({'project_id': 'e98e8f4e0bd0476cbbd2839cc9a65aeb',\n",
       "  'project_secret': '1ae8bbdc2c3f4a4aa1b83db0275fc6b8',\n",
       "  'endpoint': 'https://ropsten.infura.io/v3/',\n",
       "  'contract_address': '0x4eBc823eB1121D8113d20f1f9D8827b71049bb41',\n",
       "  'local_account': '0x15C2ec8BaDd9EB4097Dbe9Df3B29E5248B5E77fF'},\n",
       " {'path': './../00_truffle_deploy/build/contracts/Crowdfunding.json',\n",
       "  'contract_address': '0x4eBc823eB1121D8113d20f1f9D8827b71049bb41'})"
      ]
     },
     "execution_count": 2,
     "metadata": {},
     "output_type": "execute_result"
    }
   ],
   "source": [
    "infura_conf = read_params('./config/env.ini', 'infura')\n",
    "contract_conf = {\n",
    "    'path': './../00_truffle_deploy/build/contracts/Crowdfunding.json',\n",
    "    'contract_address': infura_conf['contract_address']\n",
    "}\n",
    "infura_conf, contract_conf"
   ]
  },
  {
   "cell_type": "code",
   "execution_count": 3,
   "metadata": {},
   "outputs": [
    {
     "data": {
      "text/plain": [
       "({'address': '0xF1C76aa199e490ABC5C37a86142E2d11E5abED52',\n",
       "  'key': '49c3a52465e2a66267da1fda7b1983dbbd49fa1730b2251f4e6b82ddfe77dd3a'},\n",
       " 'https://ropsten.infura.io/v3/e98e8f4e0bd0476cbbd2839cc9a65aeb')"
      ]
     },
     "execution_count": 3,
     "metadata": {},
     "output_type": "execute_result"
    }
   ],
   "source": [
    "tom = read_params('./config/env.ini', 'TOM')\n",
    "provider_ = infura_conf['endpoint'] + infura_conf['project_id']\n",
    "tom,provider_"
   ]
  },
  {
   "cell_type": "code",
   "execution_count": 4,
   "metadata": {},
   "outputs": [
    {
     "name": "stdout",
     "output_type": "stream",
     "text": [
      "cur contract address :0x8935B5B83465E379487A241B085014440708dEec, functions set :[<Function author()>, <Function closed()>, <Function endTime()>, <Function joined(address)>, <Function price()>, <Function getAuthor()>, <Function withdrawFund()>, <Function withdraw()>]\n",
      "cur account:0xF1C76aa199e490ABC5C37a86142E2d11E5abED52, isConnected:True\n"
     ]
    }
   ],
   "source": [
    "tom_cli = Client(provider_, tom['key'], contract_conf)"
   ]
  },
  {
   "cell_type": "code",
   "execution_count": 5,
   "metadata": {},
   "outputs": [
    {
     "data": {
      "text/plain": [
       "'0xA1D91D7b6Bd771c53eF7B7d12805368B46E52467'"
      ]
     },
     "execution_count": 5,
     "metadata": {},
     "output_type": "execute_result"
    }
   ],
   "source": [
    "tom_cli._contract.functions.getAuthor().call()"
   ]
  },
  {
   "cell_type": "code",
   "execution_count": null,
   "metadata": {},
   "outputs": [],
   "source": []
  },
  {
   "cell_type": "code",
   "execution_count": null,
   "metadata": {},
   "outputs": [],
   "source": []
  }
 ],
 "metadata": {
  "kernelspec": {
   "display_name": "Python 3.10.4 64-bit",
   "language": "python",
   "name": "python3"
  },
  "language_info": {
   "codemirror_mode": {
    "name": "ipython",
    "version": 3
   },
   "file_extension": ".py",
   "mimetype": "text/x-python",
   "name": "python",
   "nbconvert_exporter": "python",
   "pygments_lexer": "ipython3",
   "version": "3.10.4"
  },
  "orig_nbformat": 4,
  "vscode": {
   "interpreter": {
    "hash": "4f946df053fbf2b937619d3c5458e7af74262f9a954d8797ba0b27400bcafe06"
   }
  }
 },
 "nbformat": 4,
 "nbformat_minor": 2
}
