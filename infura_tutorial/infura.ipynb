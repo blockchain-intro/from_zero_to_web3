{
  "nbformat": 4,
  "nbformat_minor": 0,
  "metadata": {
    "colab": {
      "name": "infura.ipynb",
      "provenance": [],
      "collapsed_sections": []
    },
    "kernelspec": {
      "name": "python3",
      "display_name": "Python 3"
    },
    "language_info": {
      "name": "python"
    }
  },
  "cells": [
    {
      "cell_type": "code",
      "execution_count": 1,
      "metadata": {
        "colab": {
          "base_uri": "https://localhost:8080/"
        },
        "id": "Bt0Ty4xZcNUN",
        "outputId": "6d1828fd-2f3b-4d11-d883-c1e61a3b9271"
      },
      "outputs": [
        {
          "output_type": "stream",
          "name": "stdout",
          "text": [
            "Looking in indexes: https://pypi.org/simple, https://us-python.pkg.dev/colab-wheels/public/simple/\n",
            "Collecting web3\n",
            "  Downloading web3-5.30.0-py3-none-any.whl (501 kB)\n",
            "\u001b[K     |████████████████████████████████| 501 kB 6.5 MB/s \n",
            "\u001b[?25hCollecting eth-utils<2.0.0,>=1.9.5\n",
            "  Downloading eth_utils-1.10.0-py3-none-any.whl (24 kB)\n",
            "Collecting eth-typing<3.0.0,>=2.0.0\n",
            "  Downloading eth_typing-2.3.0-py3-none-any.whl (6.2 kB)\n",
            "Collecting ipfshttpclient==0.8.0a2\n",
            "  Downloading ipfshttpclient-0.8.0a2-py3-none-any.whl (82 kB)\n",
            "\u001b[K     |████████████████████████████████| 82 kB 976 kB/s \n",
            "\u001b[?25hRequirement already satisfied: protobuf<4,>=3.10.0 in /usr/local/lib/python3.7/dist-packages (from web3) (3.17.3)\n",
            "Collecting eth-account<0.6.0,>=0.5.7\n",
            "  Downloading eth_account-0.5.8-py3-none-any.whl (101 kB)\n",
            "\u001b[K     |████████████████████████████████| 101 kB 11.8 MB/s \n",
            "\u001b[?25hCollecting aiohttp<4,>=3.7.4.post0\n",
            "  Downloading aiohttp-3.8.1-cp37-cp37m-manylinux_2_5_x86_64.manylinux1_x86_64.manylinux_2_12_x86_64.manylinux2010_x86_64.whl (1.1 MB)\n",
            "\u001b[K     |████████████████████████████████| 1.1 MB 46.3 MB/s \n",
            "\u001b[?25hRequirement already satisfied: jsonschema<5,>=3.2.0 in /usr/local/lib/python3.7/dist-packages (from web3) (4.3.3)\n",
            "Collecting eth-rlp<0.3\n",
            "  Downloading eth_rlp-0.2.1-py3-none-any.whl (5.0 kB)\n",
            "Collecting eth-hash[pycryptodome]<1.0.0,>=0.2.0\n",
            "  Downloading eth_hash-0.4.0-py3-none-any.whl (9.0 kB)\n",
            "Requirement already satisfied: requests<3.0.0,>=2.16.0 in /usr/local/lib/python3.7/dist-packages (from web3) (2.23.0)\n",
            "Collecting websockets<10,>=9.1\n",
            "  Downloading websockets-9.1-cp37-cp37m-manylinux2010_x86_64.whl (103 kB)\n",
            "\u001b[K     |████████████████████████████████| 103 kB 59.7 MB/s \n",
            "\u001b[?25hCollecting hexbytes<1.0.0,>=0.1.0\n",
            "  Downloading hexbytes-0.2.2-py3-none-any.whl (6.1 kB)\n",
            "Requirement already satisfied: typing-extensions<5,>=3.7.4.1 in /usr/local/lib/python3.7/dist-packages (from web3) (4.1.1)\n",
            "Collecting eth-abi<3.0.0,>=2.0.0b6\n",
            "  Downloading eth_abi-2.1.1-py3-none-any.whl (27 kB)\n",
            "Collecting lru-dict<2.0.0,>=1.1.6\n",
            "  Downloading lru_dict-1.1.8-cp37-cp37m-manylinux_2_5_x86_64.manylinux1_x86_64.manylinux_2_17_x86_64.manylinux2014_x86_64.whl (26 kB)\n",
            "Collecting multiaddr>=0.0.7\n",
            "  Downloading multiaddr-0.0.9-py2.py3-none-any.whl (16 kB)\n",
            "Requirement already satisfied: attrs>=17.3.0 in /usr/local/lib/python3.7/dist-packages (from aiohttp<4,>=3.7.4.post0->web3) (21.4.0)\n",
            "Collecting frozenlist>=1.1.1\n",
            "  Downloading frozenlist-1.3.0-cp37-cp37m-manylinux_2_5_x86_64.manylinux1_x86_64.manylinux_2_17_x86_64.manylinux2014_x86_64.whl (144 kB)\n",
            "\u001b[K     |████████████████████████████████| 144 kB 49.7 MB/s \n",
            "\u001b[?25hCollecting yarl<2.0,>=1.0\n",
            "  Downloading yarl-1.7.2-cp37-cp37m-manylinux_2_5_x86_64.manylinux1_x86_64.manylinux_2_12_x86_64.manylinux2010_x86_64.whl (271 kB)\n",
            "\u001b[K     |████████████████████████████████| 271 kB 58.2 MB/s \n",
            "\u001b[?25hCollecting multidict<7.0,>=4.5\n",
            "  Downloading multidict-6.0.2-cp37-cp37m-manylinux_2_17_x86_64.manylinux2014_x86_64.whl (94 kB)\n",
            "\u001b[K     |████████████████████████████████| 94 kB 1.0 MB/s \n",
            "\u001b[?25hRequirement already satisfied: charset-normalizer<3.0,>=2.0 in /usr/local/lib/python3.7/dist-packages (from aiohttp<4,>=3.7.4.post0->web3) (2.1.0)\n",
            "Collecting async-timeout<5.0,>=4.0.0a3\n",
            "  Downloading async_timeout-4.0.2-py3-none-any.whl (5.8 kB)\n",
            "Collecting aiosignal>=1.1.2\n",
            "  Downloading aiosignal-1.2.0-py3-none-any.whl (8.2 kB)\n",
            "Collecting asynctest==0.13.0\n",
            "  Downloading asynctest-0.13.0-py3-none-any.whl (26 kB)\n",
            "Collecting parsimonious<0.9.0,>=0.8.0\n",
            "  Downloading parsimonious-0.8.1.tar.gz (45 kB)\n",
            "\u001b[K     |████████████████████████████████| 45 kB 3.6 MB/s \n",
            "\u001b[?25hCollecting eth-keyfile<0.6.0,>=0.5.0\n",
            "  Downloading eth_keyfile-0.5.1-py3-none-any.whl (8.3 kB)\n",
            "Collecting bitarray<3,>=1.2.1\n",
            "  Downloading bitarray-2.5.1-cp37-cp37m-manylinux_2_17_x86_64.manylinux2014_x86_64.whl (236 kB)\n",
            "\u001b[K     |████████████████████████████████| 236 kB 49.2 MB/s \n",
            "\u001b[?25hCollecting rlp<3,>=1.0.0\n",
            "  Downloading rlp-2.0.1-py2.py3-none-any.whl (20 kB)\n",
            "Collecting eth-keys<0.4.0,>=0.3.4\n",
            "  Downloading eth_keys-0.3.4-py3-none-any.whl (21 kB)\n",
            "Collecting pycryptodome<4,>=3.6.6\n",
            "  Downloading pycryptodome-3.15.0-cp35-abi3-manylinux2010_x86_64.whl (2.3 MB)\n",
            "\u001b[K     |████████████████████████████████| 2.3 MB 40.5 MB/s \n",
            "\u001b[?25hCollecting cytoolz<1.0.0,>=0.9.0\n",
            "  Downloading cytoolz-0.12.0-cp37-cp37m-manylinux_2_17_x86_64.manylinux2014_x86_64.whl (1.6 MB)\n",
            "\u001b[K     |████████████████████████████████| 1.6 MB 55.3 MB/s \n",
            "\u001b[?25hRequirement already satisfied: toolz>=0.8.0 in /usr/local/lib/python3.7/dist-packages (from cytoolz<1.0.0,>=0.9.0->eth-keyfile<0.6.0,>=0.5.0->eth-account<0.6.0,>=0.5.7->web3) (0.11.2)\n",
            "Collecting eth-utils<2.0.0,>=1.9.5\n",
            "  Downloading eth_utils-1.9.5-py3-none-any.whl (23 kB)\n",
            "Requirement already satisfied: pyrsistent!=0.17.0,!=0.17.1,!=0.17.2,>=0.14.0 in /usr/local/lib/python3.7/dist-packages (from jsonschema<5,>=3.2.0->web3) (0.18.1)\n",
            "Requirement already satisfied: importlib-metadata in /usr/local/lib/python3.7/dist-packages (from jsonschema<5,>=3.2.0->web3) (4.12.0)\n",
            "Requirement already satisfied: importlib-resources>=1.4.0 in /usr/local/lib/python3.7/dist-packages (from jsonschema<5,>=3.2.0->web3) (5.8.0)\n",
            "Requirement already satisfied: zipp>=3.1.0 in /usr/local/lib/python3.7/dist-packages (from importlib-resources>=1.4.0->jsonschema<5,>=3.2.0->web3) (3.8.0)\n",
            "Collecting varint\n",
            "  Downloading varint-1.0.2.tar.gz (1.9 kB)\n",
            "Collecting base58\n",
            "  Downloading base58-2.1.1-py3-none-any.whl (5.6 kB)\n",
            "Requirement already satisfied: six in /usr/local/lib/python3.7/dist-packages (from multiaddr>=0.0.7->ipfshttpclient==0.8.0a2->web3) (1.15.0)\n",
            "Collecting netaddr\n",
            "  Downloading netaddr-0.8.0-py2.py3-none-any.whl (1.9 MB)\n",
            "\u001b[K     |████████████████████████████████| 1.9 MB 38.3 MB/s \n",
            "\u001b[?25hRequirement already satisfied: chardet<4,>=3.0.2 in /usr/local/lib/python3.7/dist-packages (from requests<3.0.0,>=2.16.0->web3) (3.0.4)\n",
            "Requirement already satisfied: certifi>=2017.4.17 in /usr/local/lib/python3.7/dist-packages (from requests<3.0.0,>=2.16.0->web3) (2022.6.15)\n",
            "Requirement already satisfied: urllib3!=1.25.0,!=1.25.1,<1.26,>=1.21.1 in /usr/local/lib/python3.7/dist-packages (from requests<3.0.0,>=2.16.0->web3) (1.24.3)\n",
            "Requirement already satisfied: idna<3,>=2.5 in /usr/local/lib/python3.7/dist-packages (from requests<3.0.0,>=2.16.0->web3) (2.10)\n",
            "Building wheels for collected packages: parsimonious, varint\n",
            "  Building wheel for parsimonious (setup.py) ... \u001b[?25l\u001b[?25hdone\n",
            "  Created wheel for parsimonious: filename=parsimonious-0.8.1-py3-none-any.whl size=42723 sha256=2bbb29f98bce2cbb1782431a1eb6cb0fc311f72c89646e88942b82b20d5c51a9\n",
            "  Stored in directory: /root/.cache/pip/wheels/88/5d/ba/f27d8af07306b65ee44f9d3f9cadea1db749a421a6db8a99bf\n",
            "  Building wheel for varint (setup.py) ... \u001b[?25l\u001b[?25hdone\n",
            "  Created wheel for varint: filename=varint-1.0.2-py3-none-any.whl size=1980 sha256=5bc646245bd62f7c0a4a36d94f2a16bce64eee0e2b9fcd52bf68067daaf138d2\n",
            "  Stored in directory: /root/.cache/pip/wheels/69/21/07/09f1c6a7d9b59377aa6d98da6efdd670f7ca40aabd93d02704\n",
            "Successfully built parsimonious varint\n",
            "Installing collected packages: eth-typing, eth-hash, cytoolz, eth-utils, varint, rlp, pycryptodome, parsimonious, netaddr, multidict, hexbytes, frozenlist, eth-keys, base58, yarl, multiaddr, eth-rlp, eth-keyfile, eth-abi, bitarray, asynctest, async-timeout, aiosignal, websockets, lru-dict, ipfshttpclient, eth-account, aiohttp, web3\n",
            "Successfully installed aiohttp-3.8.1 aiosignal-1.2.0 async-timeout-4.0.2 asynctest-0.13.0 base58-2.1.1 bitarray-2.5.1 cytoolz-0.12.0 eth-abi-2.1.1 eth-account-0.5.8 eth-hash-0.4.0 eth-keyfile-0.5.1 eth-keys-0.3.4 eth-rlp-0.2.1 eth-typing-2.3.0 eth-utils-1.9.5 frozenlist-1.3.0 hexbytes-0.2.2 ipfshttpclient-0.8.0a2 lru-dict-1.1.8 multiaddr-0.0.9 multidict-6.0.2 netaddr-0.8.0 parsimonious-0.8.1 pycryptodome-3.15.0 rlp-2.0.1 varint-1.0.2 web3-5.30.0 websockets-9.1 yarl-1.7.2\n"
          ]
        }
      ],
      "source": [
        "!pip install web3"
      ]
    },
    {
      "cell_type": "code",
      "source": [
        "!pip install py-solc-x \n"
      ],
      "metadata": {
        "colab": {
          "base_uri": "https://localhost:8080/"
        },
        "id": "-aG5hoUjcPoz",
        "outputId": "23dfb866-6fc7-4af6-db64-315bc113627e"
      },
      "execution_count": 3,
      "outputs": [
        {
          "output_type": "stream",
          "name": "stdout",
          "text": [
            "Looking in indexes: https://pypi.org/simple, https://us-python.pkg.dev/colab-wheels/public/simple/\n",
            "Collecting py-solc-x\n",
            "  Downloading py_solc_x-1.1.1-py3-none-any.whl (15 kB)\n",
            "Requirement already satisfied: requests<3,>=2.19.0 in /usr/local/lib/python3.7/dist-packages (from py-solc-x) (2.23.0)\n",
            "Collecting semantic-version<3,>=2.8.1\n",
            "  Downloading semantic_version-2.10.0-py2.py3-none-any.whl (15 kB)\n",
            "Requirement already satisfied: urllib3!=1.25.0,!=1.25.1,<1.26,>=1.21.1 in /usr/local/lib/python3.7/dist-packages (from requests<3,>=2.19.0->py-solc-x) (1.24.3)\n",
            "Requirement already satisfied: idna<3,>=2.5 in /usr/local/lib/python3.7/dist-packages (from requests<3,>=2.19.0->py-solc-x) (2.10)\n",
            "Requirement already satisfied: certifi>=2017.4.17 in /usr/local/lib/python3.7/dist-packages (from requests<3,>=2.19.0->py-solc-x) (2022.6.15)\n",
            "Requirement already satisfied: chardet<4,>=3.0.2 in /usr/local/lib/python3.7/dist-packages (from requests<3,>=2.19.0->py-solc-x) (3.0.4)\n",
            "Installing collected packages: semantic-version, py-solc-x\n",
            "Successfully installed py-solc-x-1.1.1 semantic-version-2.10.0\n"
          ]
        }
      ]
    },
    {
      "cell_type": "code",
      "source": [
        "!pip install -U \"web3[tester]\""
      ],
      "metadata": {
        "colab": {
          "base_uri": "https://localhost:8080/",
          "height": 1000
        },
        "id": "OWCEdWtNcalc",
        "outputId": "3776bef0-c3ce-4e95-df65-4f7447c97fd3"
      },
      "execution_count": 4,
      "outputs": [
        {
          "output_type": "stream",
          "name": "stdout",
          "text": [
            "Looking in indexes: https://pypi.org/simple, https://us-python.pkg.dev/colab-wheels/public/simple/\n",
            "Requirement already satisfied: web3[tester] in /usr/local/lib/python3.7/dist-packages (5.30.0)\n",
            "Requirement already satisfied: websockets<10,>=9.1 in /usr/local/lib/python3.7/dist-packages (from web3[tester]) (9.1)\n",
            "Requirement already satisfied: hexbytes<1.0.0,>=0.1.0 in /usr/local/lib/python3.7/dist-packages (from web3[tester]) (0.2.2)\n",
            "Requirement already satisfied: ipfshttpclient==0.8.0a2 in /usr/local/lib/python3.7/dist-packages (from web3[tester]) (0.8.0a2)\n",
            "Requirement already satisfied: typing-extensions<5,>=3.7.4.1 in /usr/local/lib/python3.7/dist-packages (from web3[tester]) (4.1.1)\n",
            "Requirement already satisfied: eth-account<0.6.0,>=0.5.7 in /usr/local/lib/python3.7/dist-packages (from web3[tester]) (0.5.8)\n",
            "Requirement already satisfied: eth-hash[pycryptodome]<1.0.0,>=0.2.0 in /usr/local/lib/python3.7/dist-packages (from web3[tester]) (0.4.0)\n",
            "Requirement already satisfied: eth-typing<3.0.0,>=2.0.0 in /usr/local/lib/python3.7/dist-packages (from web3[tester]) (2.3.0)\n",
            "Requirement already satisfied: lru-dict<2.0.0,>=1.1.6 in /usr/local/lib/python3.7/dist-packages (from web3[tester]) (1.1.8)\n",
            "Requirement already satisfied: protobuf<4,>=3.10.0 in /usr/local/lib/python3.7/dist-packages (from web3[tester]) (3.17.3)\n",
            "Requirement already satisfied: requests<3.0.0,>=2.16.0 in /usr/local/lib/python3.7/dist-packages (from web3[tester]) (2.23.0)\n",
            "Requirement already satisfied: eth-utils<2.0.0,>=1.9.5 in /usr/local/lib/python3.7/dist-packages (from web3[tester]) (1.9.5)\n",
            "Requirement already satisfied: eth-rlp<0.3 in /usr/local/lib/python3.7/dist-packages (from web3[tester]) (0.2.1)\n",
            "Requirement already satisfied: jsonschema<5,>=3.2.0 in /usr/local/lib/python3.7/dist-packages (from web3[tester]) (4.3.3)\n",
            "Requirement already satisfied: aiohttp<4,>=3.7.4.post0 in /usr/local/lib/python3.7/dist-packages (from web3[tester]) (3.8.1)\n",
            "Requirement already satisfied: eth-abi<3.0.0,>=2.0.0b6 in /usr/local/lib/python3.7/dist-packages (from web3[tester]) (2.1.1)\n",
            "Collecting eth-tester[py-evm]==v0.6.0-beta.6\n",
            "  Downloading eth_tester-0.6.0b6-py3-none-any.whl (69 kB)\n",
            "\u001b[K     |████████████████████████████████| 69 kB 4.8 MB/s \n",
            "\u001b[?25hCollecting py-geth<4,>=3.8.0\n",
            "  Downloading py_geth-3.8.0-py3-none-any.whl (23 kB)\n",
            "Requirement already satisfied: rlp<3,>=1.1.0 in /usr/local/lib/python3.7/dist-packages (from eth-tester[py-evm]==v0.6.0-beta.6->web3[tester]) (2.0.1)\n",
            "Requirement already satisfied: semantic-version<3.0.0,>=2.6.0 in /usr/local/lib/python3.7/dist-packages (from eth-tester[py-evm]==v0.6.0-beta.6->web3[tester]) (2.10.0)\n",
            "Requirement already satisfied: eth-keys<0.4.0,>=0.3.4 in /usr/local/lib/python3.7/dist-packages (from eth-tester[py-evm]==v0.6.0-beta.6->web3[tester]) (0.3.4)\n",
            "Collecting py-evm==0.5.0a3\n",
            "  Downloading py_evm-0.5.0a3-py3-none-any.whl (276 kB)\n",
            "\u001b[K     |████████████████████████████████| 276 kB 20.4 MB/s \n",
            "\u001b[?25hRequirement already satisfied: multiaddr>=0.0.7 in /usr/local/lib/python3.7/dist-packages (from ipfshttpclient==0.8.0a2->web3[tester]) (0.0.9)\n",
            "Requirement already satisfied: cached-property<2,>=1.5.1 in /usr/local/lib/python3.7/dist-packages (from py-evm==0.5.0a3->eth-tester[py-evm]==v0.6.0-beta.6->web3[tester]) (1.5.2)\n",
            "Collecting py-ecc<6.0.0,>=1.4.7\n",
            "  Downloading py_ecc-5.2.0-py3-none-any.whl (43 kB)\n",
            "\u001b[K     |████████████████████████████████| 43 kB 1.1 MB/s \n",
            "\u001b[?25hCollecting mypy-extensions<1.0.0,>=0.4.1\n",
            "  Downloading mypy_extensions-0.4.3-py2.py3-none-any.whl (4.5 kB)\n",
            "Collecting eth-bloom<2.0.0,>=1.0.3\n",
            "  Downloading eth_bloom-1.0.4-py3-none-any.whl (5.4 kB)\n",
            "Collecting pyethash<1.0.0,>=0.1.27\n",
            "  Downloading pyethash-0.1.27.tar.gz (38 kB)\n",
            "Collecting trie==2.0.0-alpha.5\n",
            "  Downloading trie-2.0.0a5-py3-none-any.whl (38 kB)\n",
            "Collecting typing-extensions<5,>=3.7.4.1\n",
            "  Downloading typing_extensions-3.10.0.2-py3-none-any.whl (26 kB)\n",
            "Requirement already satisfied: sortedcontainers<3,>=2.1.0 in /usr/local/lib/python3.7/dist-packages (from trie==2.0.0-alpha.5->py-evm==0.5.0a3->eth-tester[py-evm]==v0.6.0-beta.6->web3[tester]) (2.4.0)\n",
            "Requirement already satisfied: charset-normalizer<3.0,>=2.0 in /usr/local/lib/python3.7/dist-packages (from aiohttp<4,>=3.7.4.post0->web3[tester]) (2.1.0)\n",
            "Requirement already satisfied: async-timeout<5.0,>=4.0.0a3 in /usr/local/lib/python3.7/dist-packages (from aiohttp<4,>=3.7.4.post0->web3[tester]) (4.0.2)\n",
            "Requirement already satisfied: aiosignal>=1.1.2 in /usr/local/lib/python3.7/dist-packages (from aiohttp<4,>=3.7.4.post0->web3[tester]) (1.2.0)\n",
            "Requirement already satisfied: asynctest==0.13.0 in /usr/local/lib/python3.7/dist-packages (from aiohttp<4,>=3.7.4.post0->web3[tester]) (0.13.0)\n",
            "Requirement already satisfied: yarl<2.0,>=1.0 in /usr/local/lib/python3.7/dist-packages (from aiohttp<4,>=3.7.4.post0->web3[tester]) (1.7.2)\n",
            "Requirement already satisfied: attrs>=17.3.0 in /usr/local/lib/python3.7/dist-packages (from aiohttp<4,>=3.7.4.post0->web3[tester]) (21.4.0)\n",
            "Requirement already satisfied: frozenlist>=1.1.1 in /usr/local/lib/python3.7/dist-packages (from aiohttp<4,>=3.7.4.post0->web3[tester]) (1.3.0)\n",
            "Requirement already satisfied: multidict<7.0,>=4.5 in /usr/local/lib/python3.7/dist-packages (from aiohttp<4,>=3.7.4.post0->web3[tester]) (6.0.2)\n",
            "Requirement already satisfied: parsimonious<0.9.0,>=0.8.0 in /usr/local/lib/python3.7/dist-packages (from eth-abi<3.0.0,>=2.0.0b6->web3[tester]) (0.8.1)\n",
            "Requirement already satisfied: bitarray<3,>=1.2.1 in /usr/local/lib/python3.7/dist-packages (from eth-account<0.6.0,>=0.5.7->web3[tester]) (2.5.1)\n",
            "Requirement already satisfied: eth-keyfile<0.6.0,>=0.5.0 in /usr/local/lib/python3.7/dist-packages (from eth-account<0.6.0,>=0.5.7->web3[tester]) (0.5.1)\n",
            "Collecting eth-hash[pycryptodome]<1.0.0,>=0.2.0\n",
            "  Downloading eth_hash-0.3.3-py3-none-any.whl (8.9 kB)\n",
            "Requirement already satisfied: pycryptodome<4,>=3.6.6 in /usr/local/lib/python3.7/dist-packages (from eth-hash[pycryptodome]<1.0.0,>=0.2.0->web3[tester]) (3.15.0)\n",
            "Collecting pysha3<2.0.0,>=1.0.0\n",
            "  Downloading pysha3-1.0.2.tar.gz (829 kB)\n",
            "\u001b[K     |████████████████████████████████| 829 kB 63.1 MB/s \n",
            "\u001b[?25hRequirement already satisfied: cytoolz<1.0.0,>=0.9.0 in /usr/local/lib/python3.7/dist-packages (from eth-keyfile<0.6.0,>=0.5.0->eth-account<0.6.0,>=0.5.7->web3[tester]) (0.12.0)\n",
            "Requirement already satisfied: toolz>=0.8.0 in /usr/local/lib/python3.7/dist-packages (from cytoolz<1.0.0,>=0.9.0->eth-keyfile<0.6.0,>=0.5.0->eth-account<0.6.0,>=0.5.7->web3[tester]) (0.11.2)\n",
            "Requirement already satisfied: pyrsistent!=0.17.0,!=0.17.1,!=0.17.2,>=0.14.0 in /usr/local/lib/python3.7/dist-packages (from jsonschema<5,>=3.2.0->web3[tester]) (0.18.1)\n",
            "Requirement already satisfied: importlib-metadata in /usr/local/lib/python3.7/dist-packages (from jsonschema<5,>=3.2.0->web3[tester]) (4.12.0)\n",
            "Requirement already satisfied: importlib-resources>=1.4.0 in /usr/local/lib/python3.7/dist-packages (from jsonschema<5,>=3.2.0->web3[tester]) (5.8.0)\n",
            "Requirement already satisfied: zipp>=3.1.0 in /usr/local/lib/python3.7/dist-packages (from importlib-resources>=1.4.0->jsonschema<5,>=3.2.0->web3[tester]) (3.8.0)\n",
            "Requirement already satisfied: varint in /usr/local/lib/python3.7/dist-packages (from multiaddr>=0.0.7->ipfshttpclient==0.8.0a2->web3[tester]) (1.0.2)\n",
            "Requirement already satisfied: base58 in /usr/local/lib/python3.7/dist-packages (from multiaddr>=0.0.7->ipfshttpclient==0.8.0a2->web3[tester]) (2.1.1)\n",
            "Requirement already satisfied: six in /usr/local/lib/python3.7/dist-packages (from multiaddr>=0.0.7->ipfshttpclient==0.8.0a2->web3[tester]) (1.15.0)\n",
            "Requirement already satisfied: netaddr in /usr/local/lib/python3.7/dist-packages (from multiaddr>=0.0.7->ipfshttpclient==0.8.0a2->web3[tester]) (0.8.0)\n",
            "Requirement already satisfied: chardet<4,>=3.0.2 in /usr/local/lib/python3.7/dist-packages (from requests<3.0.0,>=2.16.0->web3[tester]) (3.0.4)\n",
            "Requirement already satisfied: idna<3,>=2.5 in /usr/local/lib/python3.7/dist-packages (from requests<3.0.0,>=2.16.0->web3[tester]) (2.10)\n",
            "Requirement already satisfied: certifi>=2017.4.17 in /usr/local/lib/python3.7/dist-packages (from requests<3.0.0,>=2.16.0->web3[tester]) (2022.6.15)\n",
            "Requirement already satisfied: urllib3!=1.25.0,!=1.25.1,<1.26,>=1.21.1 in /usr/local/lib/python3.7/dist-packages (from requests<3.0.0,>=2.16.0->web3[tester]) (1.24.3)\n",
            "Building wheels for collected packages: pyethash, pysha3\n",
            "  Building wheel for pyethash (setup.py) ... \u001b[?25l\u001b[?25hdone\n",
            "  Created wheel for pyethash: filename=pyethash-0.1.27-cp37-cp37m-linux_x86_64.whl size=51987 sha256=60bcd2e53f975ecd5c612277f24c25b93321f0444a43d6bcf766b55f5d50900b\n",
            "  Stored in directory: /root/.cache/pip/wheels/01/ce/8f/3604e244cd91a6852b37ca0ab6eada34106081b001bdf6d487\n",
            "  Building wheel for pysha3 (setup.py) ... \u001b[?25l\u001b[?25hdone\n",
            "  Created wheel for pysha3: filename=pysha3-1.0.2-cp37-cp37m-linux_x86_64.whl size=133598 sha256=ff38c20bcfb6d3ca81ccab7da3317a999fa2b7b3842703a9a1a34bc5d6e281e5\n",
            "  Stored in directory: /root/.cache/pip/wheels/0d/9e/bc/789fa0986c1fef30cafcc29da4dd07bc17ecba3fab78e27ed6\n",
            "Successfully built pyethash pysha3\n",
            "Installing collected packages: eth-hash, typing-extensions, mypy-extensions, trie, pysha3, pyethash, py-ecc, eth-bloom, py-evm, eth-tester, py-geth\n",
            "  Attempting uninstall: eth-hash\n",
            "    Found existing installation: eth-hash 0.4.0\n",
            "    Uninstalling eth-hash-0.4.0:\n",
            "      Successfully uninstalled eth-hash-0.4.0\n",
            "  Attempting uninstall: typing-extensions\n",
            "    Found existing installation: typing-extensions 4.1.1\n",
            "    Uninstalling typing-extensions-4.1.1:\n",
            "      Successfully uninstalled typing-extensions-4.1.1\n",
            "Successfully installed eth-bloom-1.0.4 eth-hash-0.3.3 eth-tester-0.6.0b6 mypy-extensions-0.4.3 py-ecc-5.2.0 py-evm-0.5.0a3 py-geth-3.8.0 pyethash-0.1.27 pysha3-1.0.2 trie-2.0.0a5 typing-extensions-3.10.0.2\n"
          ]
        },
        {
          "output_type": "display_data",
          "data": {
            "application/vnd.colab-display-data+json": {
              "pip_warning": {
                "packages": [
                  "typing_extensions"
                ]
              }
            }
          },
          "metadata": {}
        }
      ]
    },
    {
      "cell_type": "code",
      "source": [
        "from solcx import install_solc\n",
        "install_solc(version='v0.6.0')"
      ],
      "metadata": {
        "colab": {
          "base_uri": "https://localhost:8080/"
        },
        "id": "AhaC4Oxuctmv",
        "outputId": "108d9e78-6454-4bca-d27c-df61e258af00"
      },
      "execution_count": 5,
      "outputs": [
        {
          "output_type": "execute_result",
          "data": {
            "text/plain": [
              "Version('0.6.0')"
            ]
          },
          "metadata": {},
          "execution_count": 5
        }
      ]
    },
    {
      "cell_type": "code",
      "source": [
        "from web3 import Web3\n",
        "import json\n",
        "w3 = Web3(Web3.HTTPProvider(\"https://ropsten.infura.io/v3/fc774f68da714285bc25ac5822af61a6\"))\n",
        "w3"
      ],
      "metadata": {
        "colab": {
          "base_uri": "https://localhost:8080/"
        },
        "id": "P7IyEk1yd4_b",
        "outputId": "f8f8903f-cb0f-4648-a0bf-e8cd6d1bf643"
      },
      "execution_count": 11,
      "outputs": [
        {
          "output_type": "execute_result",
          "data": {
            "text/plain": [
              "<web3.main.Web3 at 0x7fecde1bfa10>"
            ]
          },
          "metadata": {},
          "execution_count": 11
        }
      ]
    },
    {
      "cell_type": "code",
      "source": [
        "from solcx import compile_source\n",
        "\n",
        "res=compile_source(\"\"\"\n",
        "pragma solidity >=0.6.0 <0.7.0;\n",
        "contract Crowdfunding {\n",
        "    address public author;\n",
        "    mapping(address => uint) public joined;\n",
        "    uint constant Target = 0.8 ether;\n",
        "    uint public endTime;\n",
        "    uint public price = 0.2 ether;\n",
        "    bool public closed = false;\n",
        "    constructor() public {\n",
        "        author = 0xA1D91D7b6Bd771c53eF7B7d12805368B46E52467;\n",
        "        endTime = now + 30 days;\n",
        "    }\n",
        "    function getAuthor() public view returns (address) {\n",
        "        return address(author);\n",
        "    }\n",
        "\n",
        "    function updatePrice() internal {\n",
        "        uint rise = address(this).balance / 1 ether * 2 ether;\n",
        "        price = 2 ether + rise;\n",
        "    }\n",
        "    receive() external payable {\n",
        "        require(now < endTime && !closed , \"众筹已结束\");\n",
        "        require(joined[msg.sender] == 0, \"你已经参与过众筹\");\n",
        "        require(msg.value >= price, \"出价太低了\");\n",
        "        joined[msg.sender] = msg.value;\n",
        "        updatePrice();\n",
        "    }\n",
        "    function withdrawFund() external {\n",
        "        require(msg.sender == author, \"你不是作者\");\n",
        "        require(address(this).balance >= Target, \"未达到众筹目标\");\n",
        "        closed = true;\n",
        "        msg.sender.transfer(address(this).balance);\n",
        "    }\n",
        "    function withdraw() external {\n",
        "        require(now > endTime, \"还未到众筹结束时间\");\n",
        "        require(!closed, \"众筹达标， 众筹资金已提取\");\n",
        "        require(Target > address(this).balance, \"众筹达标，你没法提取资金\");\n",
        "        msg.sender.transfer(joined[msg.sender]);\n",
        "    }\n",
        "}\n",
        "\"\"\",\n",
        "output_values=['abi', 'bin'])\n",
        "_, info = res.popitem()"
      ],
      "metadata": {
        "id": "u-bmkUckfpYk"
      },
      "execution_count": 57,
      "outputs": []
    },
    {
      "cell_type": "code",
      "source": [
        "bytecode = info['bin']\n",
        "abi = info['abi']"
      ],
      "metadata": {
        "id": "QlKQ0Wo5gl3Y"
      },
      "execution_count": 58,
      "outputs": []
    },
    {
      "cell_type": "code",
      "source": [
        ""
      ],
      "metadata": {
        "id": "XFzBFAQTgly1"
      },
      "execution_count": 58,
      "outputs": []
    },
    {
      "cell_type": "code",
      "source": [
        ""
      ],
      "metadata": {
        "id": "XiuHNdxoglwj"
      },
      "execution_count": 58,
      "outputs": []
    },
    {
      "cell_type": "code",
      "source": [
        "# with open('hello.abi', 'r') as f:\n",
        "#     abi = json.load(f)\n",
        "\n",
        "# with open('hello.txt', 'r') as f:\n",
        "#     code = f.read()\n",
        "\n",
        "# code = code.replace(\"/n\", \"\")\n",
        "contract = w3.eth.contract(abi=abi,bytecode=bytecode) # 合约对象"
      ],
      "metadata": {
        "id": "f2qN8Nqfder4"
      },
      "execution_count": 59,
      "outputs": []
    },
    {
      "cell_type": "code",
      "source": [
        "acct = w3.eth.account.from_key(\"49c3a52465e2a66267da1fda7b1983dbbd49fa1730b2251f4e6b82ddfe77dd3a\")\n",
        "acct"
      ],
      "metadata": {
        "colab": {
          "base_uri": "https://localhost:8080/"
        },
        "id": "cjOUu4n1ertd",
        "outputId": "539cbab0-d669-4ad2-f9b1-5de3633ac099"
      },
      "execution_count": 60,
      "outputs": [
        {
          "output_type": "execute_result",
          "data": {
            "text/plain": [
              "<eth_account.signers.local.LocalAccount at 0x7fecd6397c10>"
            ]
          },
          "metadata": {},
          "execution_count": 60
        }
      ]
    },
    {
      "cell_type": "code",
      "source": [
        "construct_txn = contract.constructor().buildTransaction({\n",
        "'from': acct.address,\n",
        "'nonce': w3.eth.getTransactionCount(acct.address),\n",
        "'gas': 5000000,\n",
        "'gasPrice': w3.toWei('21', 'gwei')}) # 构造合约部署交易\n",
        "\n",
        "signed = acct.signTransaction(construct_txn) # 交易签名\n",
        "tx_id = w3.eth.sendRawTransaction(signed.rawTransaction)\n",
        "print(tx_id.hex())"
      ],
      "metadata": {
        "colab": {
          "base_uri": "https://localhost:8080/"
        },
        "id": "ir37uKgcefsl",
        "outputId": "f3e94b8e-0685-4af5-e36b-3181b2c5dc37"
      },
      "execution_count": 61,
      "outputs": [
        {
          "output_type": "stream",
          "name": "stdout",
          "text": [
            "0xe34186cf5621ca5de8443de053c5524a54bfbf7e9c6ccf94c59b1e0bda7f1f00\n"
          ]
        }
      ]
    },
    {
      "cell_type": "code",
      "source": [
        "contract_addr = w3.eth.waitForTransactionReceipt(tx_id.hex()).contractAddress # 通过交易 id 查询合约地址"
      ],
      "metadata": {
        "id": "m7tsde7_e7xJ"
      },
      "execution_count": 62,
      "outputs": []
    },
    {
      "cell_type": "code",
      "source": [
        "contract_addr"
      ],
      "metadata": {
        "colab": {
          "base_uri": "https://localhost:8080/",
          "height": 36
        },
        "id": "gI4ziPQle_tG",
        "outputId": "b452c2ad-4169-46f7-d1f0-b9a1d1c8c67d"
      },
      "execution_count": 63,
      "outputs": [
        {
          "output_type": "execute_result",
          "data": {
            "text/plain": [
              "'0x26460922f355FD59662c3DD1Bbd4dd1E010B824a'"
            ],
            "application/vnd.google.colaboratory.intrinsic+json": {
              "type": "string"
            }
          },
          "metadata": {},
          "execution_count": 63
        }
      ]
    },
    {
      "cell_type": "code",
      "source": [
        "c = w3.eth.contract(contract_addr, abi=abi)\n",
        "c.all_functions() # 输出该合约可以调用的所有函数"
      ],
      "metadata": {
        "colab": {
          "base_uri": "https://localhost:8080/"
        },
        "id": "mww2zWgcfD0u",
        "outputId": "d5a0c1b6-ea14-4e7e-8513-18e7a0c83b45"
      },
      "execution_count": 64,
      "outputs": [
        {
          "output_type": "execute_result",
          "data": {
            "text/plain": [
              "[<Function author()>,\n",
              " <Function closed()>,\n",
              " <Function endTime()>,\n",
              " <Function getAuthor()>,\n",
              " <Function joined(address)>,\n",
              " <Function price()>,\n",
              " <Function withdraw()>,\n",
              " <Function withdrawFund()>]"
            ]
          },
          "metadata": {},
          "execution_count": 64
        }
      ]
    },
    {
      "cell_type": "code",
      "source": [
        "c.functions.getAuthor().call()"
      ],
      "metadata": {
        "colab": {
          "base_uri": "https://localhost:8080/",
          "height": 36
        },
        "id": "vASEYC3VfG8M",
        "outputId": "61faa40f-8716-466c-a0e6-461e7d6ede5c"
      },
      "execution_count": 65,
      "outputs": [
        {
          "output_type": "execute_result",
          "data": {
            "text/plain": [
              "'0xA1D91D7b6Bd771c53eF7B7d12805368B46E52467'"
            ],
            "application/vnd.google.colaboratory.intrinsic+json": {
              "type": "string"
            }
          },
          "metadata": {},
          "execution_count": 65
        }
      ]
    },
    {
      "cell_type": "code",
      "source": [
        ""
      ],
      "metadata": {
        "id": "wZuKY-c_fIv1"
      },
      "execution_count": null,
      "outputs": []
    }
  ]
}