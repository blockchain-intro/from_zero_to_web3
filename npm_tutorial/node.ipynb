{
  "nbformat": 4,
  "nbformat_minor": 0,
  "metadata": {
    "colab": {
      "name": "node.ipynb",
      "provenance": [],
      "collapsed_sections": [],
      "toc_visible": true
    },
    "kernelspec": {
      "name": "python3",
      "display_name": "Python 3"
    },
    "language_info": {
      "name": "python"
    }
  },
  "cells": [
    {
      "cell_type": "markdown",
      "source": [
        "# Node"
      ],
      "metadata": {
        "id": "sDmDImGFLcVJ"
      }
    },
    {
      "cell_type": "markdown",
      "source": [
        "## node project\n",
        "\n",
        "- bin:项目的启动文件\n",
        "- node_modules:项目的依赖库\n",
        "- public:项目的静态文件(css,js,img)\n",
        "- routes:项目的路由\n",
        "- views:视图目录文件(相当有mvc里的v)\n",
        "- app.js:项目的入口和程序启动文件\n",
        "- package.json:项目的基本信息(名称,版本等信息)\n",
        "\n",
        "\n"
      ],
      "metadata": {
        "id": "QMdpFhTS8v5Q"
      }
    },
    {
      "cell_type": "markdown",
      "source": [
        "## node package manager\n",
        "\n",
        "![node package](https://img-blog.csdnimg.cn/20210912112123102.png?x-oss-process=image/watermark,type_ZHJvaWRzYW5zZmFsbGJhY2s,shadow_50,text_Q1NETiBA6ICB5p2O5aS055qE5Luj56CB55Sf5rS7,size_20,color_FFFFFF,t_70,g_se,x_16)"
      ],
      "metadata": {
        "id": "EL7ihIf1LUBb"
      }
    },
    {
      "cell_type": "markdown",
      "source": [
        "## npm install\n",
        "- `npm install (with no args, in package dir)`\n",
        "- `npm install [<@scope>/]<pkg>`\n",
        "- `npm install [<@scope>/]<pkg>@<tag>`\n",
        "- `npm install [<@scope>/]<pkg>@<version>`\n",
        "- `npm install [<@scope>/]<pkg>@<version range>`\n",
        "- `npm install <folder>`\n",
        "- `npm install <tarball file>`\n",
        "- `npm install <tarball url>`\n",
        "- `npm install <git:// url>`\n",
        "- `npm install <github username>/<github project>`\n",
        "- `aliases: i, isntall`\n",
        "- `common options: [--save|--save-dev|--save-optional] [--save-exact]`"
      ],
      "metadata": {
        "id": "0nO6OXi_IW9U"
      }
    },
    {
      "cell_type": "markdown",
      "source": [
        "### npm cli\n",
        "\n",
        "#### 本地\n",
        "- `npm list`  // 查看本地已安装模块清单\n",
        "- `npm list [packageName]` // 查看本地已安装模块版本\n",
        "- `npm info [packageName]` // 查看模块的详细信息 包括各版本号等\n",
        "\n",
        "#### 远程\n",
        "- `npm view [packageName] version` // 查看模块远程最新版本\n",
        "- `npm view [packageName] versions` // 查看模块远程所有版本\n",
        "\n",
        "\n",
        "#### 安装与卸载\n",
        "- `npm install [packageName]` //安装模块\n",
        "- `npm install [packageName]@xxx.xx` //安装模块的指定版本\n",
        "- `npm install [packageName]  -g` //全局安装模块\n",
        "- `npm install [packageName] --save` 安装好后写入package.json的dependencies中（生产环境依赖）\n",
        "- `npm install [packageName] --save-dev` 安装好后写入package.json的devDepencies中（开发环境依赖）。明确仅在开发用的，比如单元测试。\n",
        "\n",
        "- `npm uninstall [packageName]` // 删除模块\n",
        "- `npm uninstall [packageName] -g` //卸载全局模块\n",
        "- `npm uninstall [packageName] --save`  // 删除模块，同时删除模块留在package.json中dependencies下的对应信息\n",
        "- `npm uninstall [packageName] --save-dev`  // 删除模块，同时删除模块留在package.json中devDependencies下的对应信"
      ],
      "metadata": {
        "id": "BFU-6L3DIW_b"
      }
    },
    {
      "cell_type": "markdown",
      "source": [
        ""
      ],
      "metadata": {
        "id": "sY0577jKIW7L"
      }
    },
    {
      "cell_type": "markdown",
      "source": [
        ""
      ],
      "metadata": {
        "id": "5m35X2QOIW5I"
      }
    },
    {
      "cell_type": "markdown",
      "source": [
        ""
      ],
      "metadata": {
        "id": "5EUNq9H0IW2g"
      }
    }
  ]
}