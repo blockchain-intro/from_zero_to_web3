{
 "cells": [
  {
   "cell_type": "markdown",
   "metadata": {},
   "source": [
    "# Solidity语法"
   ]
  },
  {
   "cell_type": "markdown",
   "metadata": {},
   "source": [
    "声明语法版本\n",
    "```solidity\n",
    "\n",
    "// SPDX-License-Identifier: MIT\n",
    "pragma solidity ^0.8.13;\n",
    "```"
   ]
  },
  {
   "cell_type": "markdown",
   "metadata": {},
   "source": [
    "## 基础语法"
   ]
  },
  {
   "cell_type": "markdown",
   "metadata": {},
   "source": [
    "### if else\n",
    "\n"
   ]
  },
  {
   "cell_type": "markdown",
   "metadata": {},
   "source": [
    "### for,while\n"
   ]
  },
  {
   "cell_type": "markdown",
   "metadata": {},
   "source": [
    "\n",
    "### Mapping\n",
    "\n",
    "- mapping(address => uint) public myMap;\n",
    "  1. keyType：string、address等\n",
    "  2. valueType：anyType\n",
    "  3. 空则返回默认值\n",
    "\n",
    "#### 示例\n",
    "```solidity\n",
    "contract Mapping {\n",
    "    // Mapping from address to uint\n",
    "    mapping(address => uint) public myMap;\n",
    "\n",
    "    function get(address _addr) public view returns (uint) {\n",
    "        return myMap[_addr];\n",
    "    }\n",
    "\n",
    "    function set(address _addr, uint _i) public {\n",
    "        myMap[_addr] = _i;\n",
    "    }\n",
    "    function remove(address _addr) public {\n",
    "        delete myMap[_addr];\n",
    "    }\n",
    "}\n",
    "```"
   ]
  },
  {
   "cell_type": "markdown",
   "metadata": {},
   "source": [
    "### Array"
   ]
  },
  {
   "cell_type": "markdown",
   "metadata": {},
   "source": [
    "#### 示例\n",
    "```solidity\n",
    "\n",
    "// SPDX-License-Identifier: MIT\n",
    "pragma solidity ^0.8.13;\n",
    "\n",
    "contract Array {\n",
    "    // Several ways to initialize an array\n",
    "    uint[] public arr;\n",
    "    uint[] public arr2 = [1, 2, 3];\n",
    "    uint[10] public myFixedSizeArr; //固定size，default value = 0\n",
    "\n",
    "    function get(uint i) public view returns (uint) {\n",
    "        return arr[i];\n",
    "    }\n",
    "\n",
    "    // not recommend\n",
    "    function getArr() public view returns (uint[] memory) {\n",
    "        return arr;\n",
    "    }\n",
    "    // append ele\n",
    "    function push(uint i) public {\n",
    "        arr.push(i);\n",
    "    }\n",
    "    // pop ele\n",
    "    function pop() public {\n",
    "        arr.pop();\n",
    "    }\n",
    "    function getLength() public view returns (uint) {\n",
    "        return arr.length;\n",
    "    }\n",
    "    // delete means set 0\n",
    "    function remove(uint index) public {\n",
    "        delete arr[index];\n",
    "    }\n",
    "    function examples() external {\n",
    "        // 内存创建，仅能固定大小\n",
    "        uint[] memory a = new uint[](5);\n",
    "    }\n",
    "}\n",
    "```\n",
    "\n"
   ]
  },
  {
   "cell_type": "markdown",
   "metadata": {},
   "source": [
    "### Enum\n",
    "方便模式选择和状态跟随，支持contract导入。类似`proto`"
   ]
  },
  {
   "cell_type": "markdown",
   "metadata": {},
   "source": [
    "#### 示例\n",
    "```solidity\n",
    "contract Enum {\n",
    "    // 状态转移\n",
    "    enum Status {\n",
    "        Pending, //0\n",
    "        Shipped, //1\n",
    "        Accepted,//2\n",
    "        Rejected,//3\n",
    "        Canceled //4\n",
    "    }\n",
    "    // 默认声明第一个status\n",
    "    Status public status;\n",
    "    function get() public view returns (Status) {\n",
    "        return status;\n",
    "    }\n",
    "\n",
    "    // 传入uint更新状态\n",
    "    function set(Status _status) public {\n",
    "        status = _status;\n",
    "    }\n",
    "\n",
    "    // func对应status转换\n",
    "    function cancel() public {\n",
    "        status = Status.Canceled;\n",
    "    }\n",
    "    // 状态置0\n",
    "    function reset() public {\n",
    "        delete status;\n",
    "    }\n",
    "}\n",
    "\n",
    "```"
   ]
  },
  {
   "cell_type": "markdown",
   "metadata": {},
   "source": [
    "### Structs\n",
    "创建结构体自定义类型，整体组织相关数据，类似Enum定义支持contract导入\n",
    "\n",
    "#### 示例\n",
    "```solidity\n",
    "contract Todos {\n",
    "    struct Todo {\n",
    "        string text;\n",
    "        bool completed; //default false\n",
    "    }\n",
    "    Todo[] public todos; // 声明struct array\n",
    "\n",
    "    function create(string calldata _text) public {\n",
    "        todos.push(Todo(_text, false)); //1. func easy create, calling it like a function\n",
    "        todos.push(Todo({text: _text, completed: false})); //2. map create, key value mapping\n",
    "        Todo memory todo;  // 3. initialize an empty struct and then update it\n",
    "        todo.text = _text;\n",
    "        todos.push(todo);\n",
    "    }\n",
    "\n",
    "    function get(uint _index) public view returns (string memory text, bool completed) {\n",
    "        Todo storage todo = todos[_index];\n",
    "        return (todo.text, todo.completed);\n",
    "    }\n",
    "\n",
    "    // update text for todos[_index]\n",
    "    function updateText(uint _index, string calldata _text) public {\n",
    "        Todo storage todo = todos[_index];\n",
    "        todo.text = _text;\n",
    "    }\n",
    "\n",
    "    // update completed\n",
    "    function toggleCompleted(uint _index) public {\n",
    "        Todo storage todo = todos[_index];\n",
    "        todo.completed = !todo.completed;\n",
    "    }\n",
    "}\n",
    "```"
   ]
  },
  {
   "cell_type": "markdown",
   "metadata": {},
   "source": [
    "### Data Locations\n",
    "Variables声明storage、memory、calldata指定数据地址。\n",
    "\n",
    "- storage：state variable (状态变量存储于blockchain)\n",
    "- memory：内存中函数生命周期调用\n",
    "- calldata：指定函数参数存储\n",
    "\n",
    "#### 示例\n",
    "```solidity\n",
    "contract DataLocations {\n",
    "    uint[] public arr;\n",
    "    mapping(uint => address) map;\n",
    "    struct MyStruct {\n",
    "        uint foo;\n",
    "    }\n",
    "    mapping(uint => MyStruct) myStructs;\n",
    "\n",
    "    function f() public {\n",
    "        // 函数调用state variables。在contract内声明，默认storage state variable\n",
    "        _f(arr, map, myStructs[1])；\n",
    "        MyStruct storage myStruct = myStructs[1];\n",
    "        MyStruct memory myMemStruct = MyStruct(0); // create a struct in memory\n",
    "    }\n",
    "    function _f(\n",
    "        uint[] storage _arr,\n",
    "        mapping(uint => address) storage _map,\n",
    "        MyStruct storage _myStruct\n",
    "    ) internal {\n",
    "        // do something with storage variables\n",
    "    }\n",
    "    function g(uint[] memory _arr) public returns (uint[] memory) { // return memory variables\n",
    "        // do something with memory array\n",
    "    }\n",
    "    function h(uint[] calldata _arr) external {\n",
    "        // do something with calldata array\n",
    "    }\n",
    "}\n",
    "```"
   ]
  },
  {
   "cell_type": "markdown",
   "metadata": {},
   "source": [
    "### Function\n",
    "\n",
    "\n",
    "#### 示例\n",
    "```solidity\n",
    "contract Function {\n",
    "    // Functions can return multiple values.\n",
    "    function returnMany() public pure returns (uint x, bool b, uint y){ //可不需指定return name\n",
    "        return (1, true, 2);\n",
    "\n",
    "        //可对var name赋值作为return\n",
    "        //x = 1;\n",
    "        //b = true;\n",
    "        //y = 2;\n",
    "    }\n",
    "    (uint i, bool b, uint j) = returnMany(); //指定dataType\n",
    "\n",
    "    // 不可传入传出map\n",
    "\n",
    "    // 可传入array\n",
    "    function arrayInput(uint[] memory _arr) public {}\n",
    "\n",
    "    // return state variables\n",
    "    uint[] public arr;\n",
    "    function arrayOutput() public view returns (uint[] memory) {\n",
    "        return arr;\n",
    "    }\n",
    "}\n",
    "```"
   ]
  },
  {
   "cell_type": "markdown",
   "metadata": {},
   "source": [
    "### View and Pure Functions\n",
    "\n",
    "- `View function` 不改变状态，\n",
    "- `Pure function` 不改变状态，也不读\n",
    "\n",
    "#### 示例\n",
    "```solidity\n",
    "contract ViewAndPure {\n",
    "    uint public x = 1;\n",
    "    function addToX(uint y) public view returns (uint) { // 不改变，状态\n",
    "        return x + y;\n",
    "    }\n",
    "    function add(uint i, uint j) public pure returns (uint) { // 不改变，不读 状态\n",
    "        return i + j;\n",
    "    }\n",
    "}\n",
    "```"
   ]
  },
  {
   "cell_type": "markdown",
   "metadata": {},
   "source": [
    "### Error\n",
    "交易中error，撤销已改状态。`error`类型包括：**require, revert or assert**\n",
    "\n",
    "- `require` 执行前验证\n",
    "- `revert` 类似require\n",
    "- `assert` 代码检查。控制流程节省gas\n",
    "\n",
    "#### 示例\n",
    "```solidity\n",
    "contract Error {\n",
    "    function testRequire(uint _i) public pure {\n",
    "        require(_i > 10, \"Input must be greater than 10\"); // Require  用于检查 inputs、执行前条件、其他函数返回等\n",
    "    }\n",
    "    function testRevert(uint _i) public pure {\n",
    "        if (_i <= 10) {\n",
    "            revert(\"Input must be greater than 10\"); //复杂使用\n",
    "        }\n",
    "    }\n",
    "    uint public num;\n",
    "    function testAssert() public view {\n",
    "        assert(num == 0); // Assert 用于检查internal errors。view声明function不改变状态，故检查num值的改动\n",
    "    }\n",
    "    // 自定义声明error\n",
    "    error InsufficientBalance(uint balance, uint withdrawAmount);\n",
    "    function testCustomError(uint _withdrawAmount) public view {\n",
    "        uint bal = address(this).balance;\n",
    "        if (bal < _withdrawAmount) {\n",
    "            revert InsufficientBalance({balance: bal, withdrawAmount: _withdrawAmount});\n",
    "        }\n",
    "    }\n",
    "}\n",
    "```"
   ]
  },
  {
   "cell_type": "markdown",
   "metadata": {},
   "source": [
    "## 数据类型"
   ]
  },
  {
   "cell_type": "markdown",
   "metadata": {},
   "source": [
    "### uint\n",
    "\n",
    "- uint8   ranges from 0 to 2 ** 8 - 1\n",
    "- uint16  ranges from 0 to 2 ** 16 - 1\n",
    "- ...\n",
    "- uint256 ranges from 0 to 2 ** 256 - 1, default\n",
    "\n",
    "### int\n",
    "- int256 ranges from -2 ** 255 to 2 ** 255 - 1, default\n",
    "- int128 ranges from -2 ** 127 to 2 ** 127 - 1\n",
    "- int public minInt = type(int).min;\n",
    "- int public maxInt = type(int).max;\n",
    "\n",
    "### address\n",
    "- public addr = 0xCA35b7d915458EF540aDe6068dFe2F44E8fa733c;\n",
    "\n",
    "\n",
    "### byte(byte[])\n",
    "\n",
    "- bytes1 a = 0xb5; //  [10110101]\n",
    "\n",
    "### Default values\n",
    "- bool public defaultBoo; // false\n",
    "- uint public defaultUint; // 0\n",
    "- int public defaultInt; // 0\n",
    "- address public defaultAddr; // 0x0000000000000000000000000000000000000000\n"
   ]
  },
  {
   "cell_type": "markdown",
   "metadata": {},
   "source": [
    "## 变量"
   ]
  },
  {
   "cell_type": "markdown",
   "metadata": {},
   "source": [
    "### local（本地变量）\n",
    "- 函数内声明\n",
    "- 不存储于链中\n",
    "\n",
    "### state（状态变量）\n",
    "- 函数外声明\n",
    "- 存储于链中\n",
    "\n",
    "### global（全局变量）\n",
    "- 链中上下文信息\n",
    "\n",
    "#### 示例\n",
    "```solidity\n",
    "// SPDX-License-Identifier: MIT\n",
    "pragma solidity ^0.8.13;\n",
    "\n",
    "contract Variables {\n",
    "    // State variables are stored on the blockchain.\n",
    "    string public text = \"Hello\";\n",
    "    uint public num = 123;\n",
    "\n",
    "    function doSomething() public {\n",
    "        // Local variables are not saved to the blockchain.\n",
    "        uint i = 456;\n",
    "\n",
    "        // Here are some global variables\n",
    "        uint timestamp = block.timestamp; // Current block timestamp\n",
    "        address sender = msg.sender; // address of the caller\n",
    "    }\n",
    "}\n",
    "\n",
    "```"
   ]
  },
  {
   "cell_type": "markdown",
   "metadata": {},
   "source": [
    "### constant（常量）\n",
    "大写声明常量类型，节省gas cost\n",
    "\n",
    "- address public constant MY_ADDRESS = 0x777788889999AaAAbBbbCcccddDdeeeEfFFfCcCc;\n",
    "- uint public constant MY_UINT = 123;"
   ]
  },
  {
   "cell_type": "markdown",
   "metadata": {},
   "source": [
    "### Immutable（不可变量）\n",
    "和constant相似，但是允许构造函数中修改。示例：\n",
    "\n",
    "```solidity\n",
    "contract Immutable {\n",
    "    address public immutable MY_ADDRESS;\n",
    "    uint public immutable MY_UINT;\n",
    "    constructor(uint _myUint) {\n",
    "        MY_ADDRESS = msg.sender;\n",
    "        MY_UINT = _myUint;\n",
    "    }\n",
    "}\n",
    "```"
   ]
  },
  {
   "cell_type": "markdown",
   "metadata": {},
   "source": [
    "### 变量-读与写\n",
    "- 变量的写和更新，需要发送交易\n",
    "- 变量的读，不需要发送交易和交易费用"
   ]
  },
  {
   "cell_type": "markdown",
   "metadata": {},
   "source": [
    "## Ether coin相关\n"
   ]
  },
  {
   "cell_type": "markdown",
   "metadata": {},
   "source": [
    "### ether and wei\n",
    "单位 1 ehter == 1e18 wei\n",
    "\n",
    "- uint public oneWei = 1 wei; //1 wei is equal to 1\n",
    "- uint public oneEther = 1 ether; // 1 ether is equal to 10^18 wei\n"
   ]
  },
  {
   "cell_type": "markdown",
   "metadata": {},
   "source": [
    "### Gas"
   ]
  },
  {
   "cell_type": "markdown",
   "metadata": {},
   "source": [
    "#### Gas计算\n",
    "**gas = gas spent * gas price  ether**\n",
    "\n",
    "- `gas spent` 交易中花费的gas总量\n",
    "- `gas price` gas单价\n",
    "\n",
    "区块中，`gas price`越高有更高的优先权，未用完退回。\n",
    "\n",
    "#### Gas Limit\n",
    "花费gas的上下界\n",
    "\n",
    "- `gas limit` 交易时最大gas量，自定义设定\n",
    "- `block gas limit` 块中允许的最大gas量, 私链设定"
   ]
  },
  {
   "cell_type": "markdown",
   "metadata": {},
   "source": []
  },
  {
   "cell_type": "markdown",
   "metadata": {},
   "source": [
    "## 二、"
   ]
  },
  {
   "cell_type": "markdown",
   "metadata": {},
   "source": [
    "### function modifier\n",
    "\n"
   ]
  },
  {
   "cell_type": "markdown",
   "metadata": {},
   "source": []
  },
  {
   "cell_type": "markdown",
   "metadata": {},
   "source": []
  },
  {
   "cell_type": "markdown",
   "metadata": {},
   "source": []
  },
  {
   "cell_type": "markdown",
   "metadata": {},
   "source": [
    "\n"
   ]
  },
  {
   "cell_type": "markdown",
   "metadata": {},
   "source": []
  },
  {
   "cell_type": "markdown",
   "metadata": {},
   "source": []
  },
  {
   "cell_type": "markdown",
   "metadata": {},
   "source": []
  },
  {
   "cell_type": "markdown",
   "metadata": {},
   "source": []
  }
 ],
 "metadata": {
  "language_info": {
   "name": "python"
  },
  "orig_nbformat": 4
 },
 "nbformat": 4,
 "nbformat_minor": 2
}
