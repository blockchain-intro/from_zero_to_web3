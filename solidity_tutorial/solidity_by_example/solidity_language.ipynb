{
  "cells": [
    {
      "cell_type": "markdown",
      "metadata": {
        "id": "1JW0kgb_CPZr"
      },
      "source": [
        "# Solidity语法\n",
        "\n",
        "熟悉solidity languag，并持续更补基础语法"
      ]
    },
    {
      "cell_type": "markdown",
      "metadata": {
        "id": "sJHCZWoXCPZv"
      },
      "source": [
        "声明语法版本，后续省略\n",
        "```solidity\n",
        "// SPDX-License-Identifier: MIT\n",
        "pragma solidity ^0.8.13;\n",
        "```"
      ]
    },
    {
      "cell_type": "markdown",
      "metadata": {
        "id": "HOx63MRve6Fu"
      },
      "source": [
        "## 数据与函数\n",
        "数据类型与函数"
      ]
    },
    {
      "cell_type": "markdown",
      "metadata": {
        "id": "apmwQGkXCPZ3"
      },
      "source": [
        "### uint\n",
        "\n",
        "- uint8   ranges from 0 to 2 ** 8 - 1\n",
        "- uint16  ranges from 0 to 2 ** 16 - 1\n",
        "- ...\n",
        "- uint256 ranges from 0 to 2 ** 256 - 1, default\n",
        "\n",
        "### int\n",
        "- int256 ranges from -2 ** 255 to 2 ** 255 - 1, default\n",
        "- int128 ranges from -2 ** 127 to 2 ** 127 - 1\n",
        "- int public minInt = type(int).min;\n",
        "- int public maxInt = type(int).max;\n",
        "\n",
        "### address\n",
        "- public addr = 0xCA35b7d915458EF540aDe6068dFe2F44E8fa733c;\n",
        "\n",
        "\n",
        "### byte(byte[])\n",
        "\n",
        "- bytes1 a = 0xb5; //  [10110101]\n",
        "\n",
        "### Default values\n",
        "- bool public defaultBoo; // false\n",
        "- uint public defaultUint; // 0\n",
        "- int public defaultInt; // 0\n",
        "- address public defaultAddr; // 0x0000000000000000000000000000000000000000\n"
      ]
    },
    {
      "cell_type": "markdown",
      "metadata": {
        "id": "qVMDveRwCPZy"
      },
      "source": [
        "\n",
        "### Mapping\n",
        "\n",
        "- mapping(address => uint) public myMap;\n",
        "  1. keyType：string、address等\n",
        "  2. valueType：anyType\n",
        "  3. 空则返回默认值\n",
        "\n",
        "#### example\n",
        "```solidity\n",
        "contract Mapping {\n",
        "    // Mapping from address to uint\n",
        "    mapping(address => uint) public myMap;\n",
        "\n",
        "    function get(address _addr) public view returns (uint) {\n",
        "        return myMap[_addr];\n",
        "    }\n",
        "\n",
        "    function set(address _addr, uint _i) public {\n",
        "        myMap[_addr] = _i;\n",
        "    }\n",
        "    function remove(address _addr) public {\n",
        "        delete myMap[_addr];\n",
        "    }\n",
        "}\n",
        "```"
      ]
    },
    {
      "cell_type": "markdown",
      "metadata": {
        "id": "wdRCJEnqCPZy"
      },
      "source": [
        "### Array\n",
        "\n",
        "#### example\n",
        "```solidity\n",
        "\n",
        "// SPDX-License-Identifier: MIT\n",
        "pragma solidity ^0.8.13;\n",
        "\n",
        "contract Array {\n",
        "    // Several ways to initialize an array\n",
        "    uint[] public arr;\n",
        "    uint[] public arr2 = [1, 2, 3];\n",
        "    uint[10] public myFixedSizeArr; //固定size，default value = 0\n",
        "\n",
        "    function get(uint i) public view returns (uint) {\n",
        "        return arr[i];\n",
        "    }\n",
        "\n",
        "    // not recommend\n",
        "    function getArr() public view returns (uint[] memory) {\n",
        "        return arr;\n",
        "    }\n",
        "    // append ele\n",
        "    function push(uint i) public {\n",
        "        arr.push(i);\n",
        "    }\n",
        "    // pop ele\n",
        "    function pop() public {\n",
        "        arr.pop();\n",
        "    }\n",
        "    function getLength() public view returns (uint) {\n",
        "        return arr.length;\n",
        "    }\n",
        "    // delete means set 0\n",
        "    function remove(uint index) public {\n",
        "        delete arr[index];\n",
        "    }\n",
        "    function examples() external {\n",
        "        // 内存创建，仅能固定大小\n",
        "        uint[] memory a = new uint[](5);\n",
        "    }\n",
        "}\n",
        "```\n",
        "\n"
      ]
    },
    {
      "cell_type": "markdown",
      "metadata": {
        "id": "8lq6TZALCPZ0"
      },
      "source": [
        "### Enum\n",
        "方便模式选择和状态跟随，支持contract导入。类似`proto`\n",
        "\n",
        "#### example\n",
        "```solidity\n",
        "contract Enum {\n",
        "    // 状态转移\n",
        "    enum Status {\n",
        "        Pending, //0\n",
        "        Shipped, //1\n",
        "        Accepted,//2\n",
        "        Rejected,//3\n",
        "        Canceled //4\n",
        "    }\n",
        "    // 默认声明第一个status\n",
        "    Status public status;\n",
        "    function get() public view returns (Status) {\n",
        "        return status;\n",
        "    }\n",
        "\n",
        "    // 传入uint更新状态\n",
        "    function set(Status _status) public {\n",
        "        status = _status;\n",
        "    }\n",
        "\n",
        "    // func对应status转换\n",
        "    function cancel() public {\n",
        "        status = Status.Canceled;\n",
        "    }\n",
        "    // 状态置0\n",
        "    function reset() public {\n",
        "        delete status;\n",
        "    }\n",
        "}\n",
        "\n",
        "```"
      ]
    },
    {
      "cell_type": "markdown",
      "metadata": {
        "id": "jtVrgHuQCPZ1"
      },
      "source": [
        "### Structs\n",
        "创建结构体自定义类型，整体组织相关数据，类似Enum定义支持contract导入\n",
        "\n",
        "#### example\n",
        "```solidity\n",
        "contract Todos {\n",
        "    struct Todo {\n",
        "        string text;\n",
        "        bool completed; //default false\n",
        "    }\n",
        "    Todo[] public todos; // 声明struct array\n",
        "\n",
        "    function create(string calldata _text) public {\n",
        "        todos.push(Todo(_text, false)); //1. func easy create, calling it like a function\n",
        "        todos.push(Todo({text: _text, completed: false})); //2. map create, key value mapping\n",
        "        Todo memory todo;  // 3. initialize an empty struct and then update it\n",
        "        todo.text = _text;\n",
        "        todos.push(todo);\n",
        "    }\n",
        "\n",
        "    function get(uint _index) public view returns (string memory text, bool completed) {\n",
        "        Todo storage todo = todos[_index];\n",
        "        return (todo.text, todo.completed);\n",
        "    }\n",
        "\n",
        "    // update text for todos[_index]\n",
        "    function updateText(uint _index, string calldata _text) public {\n",
        "        Todo storage todo = todos[_index];\n",
        "        todo.text = _text;\n",
        "    }\n",
        "\n",
        "    // update completed\n",
        "    function toggleCompleted(uint _index) public {\n",
        "        Todo storage todo = todos[_index];\n",
        "        todo.completed = !todo.completed;\n",
        "    }\n",
        "}\n",
        "```"
      ]
    },
    {
      "cell_type": "markdown",
      "metadata": {
        "id": "xplHNjyACPZ2"
      },
      "source": [
        "### Function\n",
        "\n",
        "\n",
        "#### example\n",
        "```solidity\n",
        "contract Function {\n",
        "    // Functions can return multiple values.\n",
        "    function returnMany() public pure returns (uint x, bool b, uint y){ //可不需指定return name\n",
        "        return (1, true, 2);\n",
        "\n",
        "        //可对var name赋值作为return\n",
        "        //x = 1;\n",
        "        //b = true;\n",
        "        //y = 2;\n",
        "    }\n",
        "    (uint i, bool b, uint j) = returnMany(); //指定dataType\n",
        "\n",
        "    // 不可传入传出map\n",
        "\n",
        "    // 可传入array\n",
        "    function arrayInput(uint[] memory _arr) public {}\n",
        "\n",
        "    // return state variables\n",
        "    uint[] public arr;\n",
        "    function arrayOutput() public view returns (uint[] memory) {\n",
        "        return arr;\n",
        "    }\n",
        "}\n",
        "```"
      ]
    },
    {
      "cell_type": "markdown",
      "metadata": {
        "id": "L3Fniyr3CPZ2"
      },
      "source": [
        "### View and Pure Functions\n",
        "\n",
        "- `View function` 不改变状态，\n",
        "- `Pure function` 不改变状态，也不读\n",
        "\n",
        "#### example\n",
        "```solidity\n",
        "contract ViewAndPure {\n",
        "    uint public x = 1;\n",
        "    function addToX(uint y) public view returns (uint) { // 不改变，状态\n",
        "        return x + y;\n",
        "    }\n",
        "    function add(uint i, uint j) public pure returns (uint) { // 不改变，不读 状态\n",
        "        return i + j;\n",
        "    }\n",
        "}\n",
        "```"
      ]
    },
    {
      "cell_type": "markdown",
      "metadata": {
        "id": "O1VBRpQ2CPZ5"
      },
      "source": [
        "### function modifier\n",
        "某个函数调用前后执行的code，功能：\n",
        "- Restrict access（准入限制）\n",
        "- Validate inputs（验证输入）\n",
        "- Guard against reentrancy hack（重入hack防御）\n",
        "\n",
        "#### example\n",
        "```solidity\n",
        "contract FunctionModifier {\n",
        "    address public owner;\n",
        "    uint public x = 10;\n",
        "    bool public locked;\n",
        "    constructor() {\n",
        "        owner = msg.sender;\n",
        "    }\n",
        "    // Modifier：检查caller是否是onwer\n",
        "    modifier onlyOwner() {\n",
        "        require(msg.sender == owner, \"Not owner\");\n",
        "        _; //再执行function\n",
        "    }\n",
        "    // Modifiers：检查输入非0\n",
        "    modifier validAddress(address _addr) {\n",
        "        require(_addr != address(0), \"Not valid address\");\n",
        "        _;\n",
        "    }\n",
        "    function changeOwner(address _newOwner) public onlyOwner validAddress(_newOwner) {\n",
        "        owner = _newOwner;\n",
        "    }\n",
        "\n",
        "    // Modifiers：函数锁\n",
        "    modifier noReentrancy() {\n",
        "        require(!locked, \"No reentrancy\");\n",
        "        locked = true;\n",
        "        _;\n",
        "        locked = false;\n",
        "    }\n",
        "\n",
        "    function decrement(uint i) public noReentrancy {\n",
        "        x -= i;\n",
        "        if (i > 1) {\n",
        "            decrement(i - 1);\n",
        "        }\n",
        "    }\n",
        "}\n",
        "\n",
        "\n",
        "```"
      ]
    },
    {
      "cell_type": "markdown",
      "metadata": {
        "id": "vL4tivzJCPZ6"
      },
      "source": [
        "### Constructor\n",
        "执行于contract之上，可选的function\n",
        "\n",
        "#### example\n",
        "```solidity\n",
        "// Base contract X\n",
        "contract X {\n",
        "    string public name;\n",
        "    constructor(string memory _name) {\n",
        "        name = _name;\n",
        "    }\n",
        "}\n",
        "// Base contract Y\n",
        "contract Y {\n",
        "    string public text;\n",
        "    constructor(string memory _text) {\n",
        "        text = _text;\n",
        "    }\n",
        "}\n",
        "// contract继承初始化\n",
        "// 1. Pass the parameters here in the inheritance list.\n",
        "contract B is X(\"Input to X\"), Y(\"Input to Y\") {}\n",
        "// 2. similar to function modifiers.\n",
        "contract C is X, Y {\n",
        "    constructor(string memory _name, string memory _text) X(_name) Y(_text) {}\n",
        "}\n",
        "\n",
        "// 按照继承顺序\n",
        "contract D is X, Y {\n",
        "    constructor() X(\"X was called\") Y(\"Y was called\") {}\n",
        "}\n",
        "contract E is X, Y {\n",
        "    constructor() Y(\"Y was called\") X(\"X was called\") {}\n",
        "}\n",
        "\n",
        "\n",
        "\n",
        "```"
      ]
    },
    {
      "cell_type": "markdown",
      "metadata": {
        "id": "9F58bxp9CPZ3"
      },
      "source": [
        "### Variables\n",
        "\n",
        "- local（本地变量）\n",
        "  1. 函数内声明\n",
        "  2. 不存储于链中\n",
        "\n",
        "- state（状态变量）\n",
        "  1. 函数外声明\n",
        "  2. 存储于链中\n",
        "\n",
        "- global（全局变量）\n",
        "  1. 链中上下文信息\n",
        "\n",
        "#### example\n",
        "```solidity\n",
        "// SPDX-License-Identifier: MIT\n",
        "pragma solidity ^0.8.13;\n",
        "\n",
        "contract Variables {\n",
        "    // State variables are stored on the blockchain.\n",
        "    string public text = \"Hello\";\n",
        "    uint public num = 123;\n",
        "\n",
        "    function doSomething() public {\n",
        "        // Local variables are not saved to the blockchain.\n",
        "        uint i = 456;\n",
        "\n",
        "        // Here are some global variables\n",
        "        uint timestamp = block.timestamp; // Current block timestamp\n",
        "        address sender = msg.sender; // address of the caller\n",
        "    }\n",
        "}\n",
        "\n",
        "```\n",
        "\n",
        "#### constant（常量）\n",
        "大写声明常量类型，节省gas cost\n",
        "\n",
        "- address public constant MY_ADDRESS = 0x777788889999AaAAbBbbCcccddDdeeeEfFFfCcCc;\n",
        "- uint public constant MY_UINT = 123;\n",
        "\n",
        "#### Immutable（不可变量）\n",
        "和constant相似，但是允许构造函数中修改。示例：\n",
        "\n",
        "```solidity\n",
        "contract Immutable {\n",
        "    address public immutable MY_ADDRESS;\n",
        "    uint public immutable MY_UINT;\n",
        "    constructor(uint _myUint) {\n",
        "        MY_ADDRESS = msg.sender;\n",
        "        MY_UINT = _myUint;\n",
        "    }\n",
        "}\n",
        "```\n",
        "\n",
        "\n",
        "#### 变量-读与写\n",
        "- 变量的写和更新，需要发送交易\n",
        "- 变量的读，不需要发送交易和交易费用"
      ]
    },
    {
      "cell_type": "markdown",
      "metadata": {
        "id": "gJsWDKxsfwvB"
      },
      "source": [
        "### Data Locations\n",
        "Variables声明storage、memory、calldata指定数据地址。\n",
        "\n",
        "- storage：state variable (状态变量存储于blockchain)\n",
        "- memory：内存中函数生命周期调用\n",
        "- calldata：指定函数参数存储\n",
        "\n",
        "#### 示例\n",
        "```solidity\n",
        "contract DataLocations {\n",
        "    uint[] public arr;\n",
        "    mapping(uint => address) map;\n",
        "    struct MyStruct {\n",
        "        uint foo;\n",
        "    }\n",
        "    mapping(uint => MyStruct) myStructs;\n",
        "\n",
        "    function f() public {\n",
        "        // 函数调用state variables。在contract内声明，默认storage state variable\n",
        "        _f(arr, map, myStructs[1])；\n",
        "        MyStruct storage myStruct = myStructs[1];\n",
        "        MyStruct memory myMemStruct = MyStruct(0); // create a struct in memory\n",
        "    }\n",
        "    function _f(\n",
        "        uint[] storage _arr,\n",
        "        mapping(uint => address) storage _map,\n",
        "        MyStruct storage _myStruct\n",
        "    ) internal {\n",
        "        // do something with storage variables\n",
        "    }\n",
        "    function g(uint[] memory _arr) public returns (uint[] memory) { // return memory variables\n",
        "        // do something with memory array\n",
        "    }\n",
        "    function h(uint[] calldata _arr) external {\n",
        "        // do something with calldata array\n",
        "    }\n",
        "}\n",
        "```"
      ]
    },
    {
      "cell_type": "markdown",
      "metadata": {
        "id": "tDHvxIVyLI20"
      },
      "source": [
        "### Visibility\n",
        "函数和状态变量必须声明是否可被其他contract接入\n",
        "\n",
        "- Functions\n",
        "  1. public， 任何contract和account都可以（所有）\n",
        "  2. external，仅外部contract和account可以（外部）\n",
        "  3. private， contract内部定义的function（contract私有）\n",
        "  4. internal，继承`internal`function的contract（同支contract可用）\n",
        " \n",
        "\n",
        "- State variables\n",
        "  1. public\n",
        "  2. private\n",
        "  3. internal\n",
        "\n",
        "#### example\n",
        "```solidity\n",
        "contract Base {\n",
        "    // Private function在contract内部使用，子contract不可使用\n",
        "    function privateFunc() private pure returns (string memory) {\n",
        "        return \"private function called\";\n",
        "    }\n",
        "    function testPrivateFunc() public pure returns (string memory) {\n",
        "        return privateFunc();\n",
        "    }\n",
        "\n",
        "    // Internal function can be called\n",
        "    // - contract内部\n",
        "    // - 子contracts内部\n",
        "    function internalFunc() internal pure returns (string memory) {\n",
        "        return \"internal function called\";\n",
        "    }\n",
        "    function testInternalFunc() public pure virtual returns (string memory) {\n",
        "        return internalFunc();\n",
        "    }\n",
        "\n",
        "    // Public functions can be called\n",
        "    // - contract内部\n",
        "    // - 子contract内部\n",
        "    // - 其他contracts and accounts\n",
        "    function publicFunc() public pure returns (string memory) {\n",
        "        return \"public function called\";\n",
        "    }\n",
        "\n",
        "    // External functions can only be called\n",
        "    // - 仅其他contracts and accounts\n",
        "    function externalFunc() external pure returns (string memory) {\n",
        "        return \"external function called\";\n",
        "    }\n",
        "\n",
        "    // This function will not compile since we're trying to call\n",
        "    // an external function here.\n",
        "    // function testExternalFunc() public pure returns (string memory) {\n",
        "    //     return externalFunc();\n",
        "    // }\n",
        "\n",
        "    // State variables\n",
        "    string private privateVar = \"my private variable\";\n",
        "    string internal internalVar = \"my internal variable\";\n",
        "    string public publicVar = \"my public variable\";\n",
        "    // State variables cannot be external so this code won't compile.\n",
        "    // string external externalVar = \"my external variable\";\n",
        "}\n",
        "\n",
        "contract Child is Base {\n",
        "    // 子contracts 不能使用private functions，state variables.\n",
        "    // function testPrivateFunc() public pure returns (string memory) {\n",
        "    //     return privateFunc();\n",
        "    // }\n",
        "\n",
        "    // Internal function call be called inside child contracts.\n",
        "    function testInternalFunc() public pure override returns (string memory) {\n",
        "        return internalFunc();\n",
        "    }\n",
        "}\n",
        "\n",
        "\n",
        "\n",
        "```"
      ]
    },
    {
      "cell_type": "markdown",
      "metadata": {
        "id": "2lu8Mzf2gj63"
      },
      "source": []
    },
    {
      "cell_type": "markdown",
      "metadata": {
        "id": "womDnSbcgjk1"
      },
      "source": []
    },
    {
      "cell_type": "markdown",
      "metadata": {
        "id": "3GvQPG1XfiUq"
      },
      "source": [
        "## 关键字"
      ]
    },
    {
      "cell_type": "markdown",
      "metadata": {
        "id": "EfiEX_AoLIyl"
      },
      "source": [
        "### Payable\n",
        "Functions and addresses声明为`payable` 接收ether\n",
        "\n",
        "```solidity\n",
        "contract Payable {\n",
        "    address payable public owner; // 可支付address\n",
        "    constructor() payable { // Payable constructor can receive Ether\n",
        "        owner = payable(msg.sender); \n",
        "    }\n",
        "\n",
        "    // Function支持payable\n",
        "    function deposit() public payable {}\n",
        "    // 不支持 payable\n",
        "    function notPayable() public {}\n",
        "    // 从contract赎回ether\n",
        "    function withdraw() public {\n",
        "        uint amount = address(this).balance;\n",
        "        (bool success, ) = owner.call{value: amount}(\"\");\n",
        "        require(success, \"Failed to send Ether\");\n",
        "    }\n",
        "    // 交易ether，_to声明为payable\n",
        "    function transfer(address payable _to, uint _amount) public {\n",
        "        (bool success, ) = _to.call{value: _amount}(\"\");\n",
        "        require(success, \"Failed to send Ether\");\n",
        "    }\n",
        "}\n",
        "```\n",
        "\n"
      ]
    },
    {
      "cell_type": "markdown",
      "metadata": {
        "id": "5nNWcfTHUBm2"
      },
      "source": [
        "### Fallback\n",
        "无输入参数，无返回值。执行时：\n",
        "- 不存在函数被调用时\n",
        "- receive() 不存在或者`msg.data`非空时，发送ether时\n",
        "\n",
        "被`transfer`或者`send`调用时`fallback`有2300 gas的限制。"
      ]
    },
    {
      "cell_type": "markdown",
      "metadata": {
        "id": "D5BUOmANUBj1"
      },
      "source": [
        "### Call\n",
        "与其它contracts交互的函数，调用fallback function，用`call`发送ether，调用已存在函数时不建议。\n",
        "\n",
        "### Delegatecall\n",
        "类似`call`。contract A执行delegatecall对contract B,执行B's code，用contract A's storage, msg.sender和msg.value。\n",
        "\n",
        "**TODO**"
      ]
    },
    {
      "cell_type": "markdown",
      "metadata": {
        "id": "LCEtCeTeUBgm"
      },
      "source": [
        "### Function Selector\n",
        "calldata的前4 bytes指定了函数，这被称为`function selector`。\n",
        "\n",
        "用`call`执行`transfer `\n",
        "```solidity\n",
        "addr.call(abi.encodeWithSignature(\"transfer(address,uint256)\", 0xSomeAddress, 123))\n",
        "```\n",
        "返回的前4 bytes就是`function selector`。"
      ]
    },
    {
      "cell_type": "markdown",
      "metadata": {
        "id": "PiX5ZiMeCPZ6"
      },
      "source": [
        "### Events\n",
        "- 监听events更新用户界面\n",
        "- 节省存储\n",
        "\n",
        "#### example\n",
        "```solidity\n",
        "contract Event {\n",
        "    // Up to 3 parameters can be indexed, filter log by address\n",
        "    event Log(address indexed sender, string message);\n",
        "    event AnotherLog();\n",
        "    function test() public {\n",
        "        emit Log(msg.sender, \"Hello World!\");\n",
        "        emit Log(msg.sender, \"Hello EVM!\");\n",
        "        emit AnotherLog();\n",
        "    }\n",
        "}\n",
        "```"
      ]
    },
    {
      "cell_type": "markdown",
      "metadata": {
        "id": "lXykZI-pUBY5"
      },
      "source": [
        "### Try Catch\n",
        "try / catch仅能捕获external function calls和contract creation的发生错误"
      ]
    },
    {
      "cell_type": "markdown",
      "metadata": {
        "id": "RRAt0I4pUBWU"
      },
      "source": [
        "### Import\n",
        "导入本地和外部files\n",
        "\n",
        "#### Local\n",
        "```\n",
        "├── Import.sol\n",
        "└── Foo.sol\n",
        "```\n",
        "FOO.sol\n",
        "\n",
        "```solidity\n",
        "struct Point {\n",
        "    uint x;\n",
        "    uint y;\n",
        "}\n",
        "error Unauthorized(address caller);\n",
        "function add(uint x, uint y) pure returns (uint) {\n",
        "    return x + y;\n",
        "}\n",
        "contract Foo {\n",
        "    string public name = \"Foo\";\n",
        "}\n",
        "```\n",
        "\n",
        "Import.sol\n",
        "```solidity\n",
        "// import Foo.sol from current directory\n",
        "import \"./Foo.sol\";\n",
        "\n",
        "// import {symbol1 as alias, symbol2} from \"filename\";\n",
        "import {Unauthorized, add as func, Point} from \"./Foo.sol\";\n",
        "contract Import {\n",
        "    // Initialize Foo.sol\n",
        "    Foo public foo = new Foo();\n",
        "\n",
        "    // Test Foo.sol by getting it's name.\n",
        "    function getFooName() public view returns (string memory) {\n",
        "        return foo.name();\n",
        "    }\n",
        "}\n",
        "```\n",
        "\n",
        "\n",
        "#### External\n",
        "```solidity\n",
        "// https://github.com/owner/repo/blob/branch/path/to/Contract.sol\n",
        "import \"https://github.com/owner/repo/blob/branch/path/to/Contract.sol\";\n",
        "\n",
        "// Example import ECDSA.sol from openzeppelin-contract repo, release-v4.5 branch\n",
        "// https://github.com/OpenZeppelin/openzeppelin-contracts/blob/release-v4.5/contracts/utils/cryptography/ECDSA.sol\n",
        "import \"https://github.com/OpenZeppelin/openzeppelin-contracts/blob/release-v4.5/contracts/utils/cryptography/ECDSA.sol\";\n",
        "\n",
        "```"
      ]
    },
    {
      "cell_type": "markdown",
      "metadata": {
        "id": "XZssPpqoUBRZ"
      },
      "source": [
        "### ABI Decode\n",
        "- `abi.encode` 将data编码为bytes\n",
        "- `abi.decode` 将bytes解码为data\n",
        "\n",
        "```solidity\n",
        "abi.encode(x, addr, arr, myStruct);\n",
        "\n",
        "(x, addr, arr, myStruct) = abi.decode(data, (uint, address, uint[], MyStruct));\n",
        "```"
      ]
    },
    {
      "cell_type": "markdown",
      "metadata": {
        "id": "9fQttNe2UBME"
      },
      "source": [
        "### Verifying Signature\n",
        "\n",
        "Messages签署chain并且用contract在链上验证。"
      ]
    },
    {
      "cell_type": "markdown",
      "metadata": {
        "id": "0-frbnDQLIt5"
      },
      "source": []
    },
    {
      "cell_type": "markdown",
      "metadata": {
        "id": "FDl0hVAnCPZ3"
      },
      "source": [
        "### Error\n",
        "交易中error，撤销已改状态。`error`类型包括：**require, revert or assert**\n",
        "\n",
        "- `require` 执行前验证\n",
        "- `revert` 类似require\n",
        "- `assert` 代码检查。控制流程节省gas\n",
        "\n",
        "#### example\n",
        "```solidity\n",
        "contract Error {\n",
        "    function testRequire(uint _i) public pure {\n",
        "        require(_i > 10, \"Input must be greater than 10\"); // Require  用于检查 inputs、执行前条件、其他函数返回等\n",
        "    }\n",
        "    function testRevert(uint _i) public pure {\n",
        "        if (_i <= 10) {\n",
        "            revert(\"Input must be greater than 10\"); //复杂使用\n",
        "        }\n",
        "    }\n",
        "    uint public num;\n",
        "    function testAssert() public view {\n",
        "        assert(num == 0); // Assert 用于检查internal errors。view声明function不改变状态，故检查num值的改动\n",
        "    }\n",
        "    // 自定义声明error\n",
        "    error InsufficientBalance(uint balance, uint withdrawAmount);\n",
        "    function testCustomError(uint _withdrawAmount) public view {\n",
        "        uint bal = address(this).balance;\n",
        "        if (bal < _withdrawAmount) {\n",
        "            revert InsufficientBalance({balance: bal, withdrawAmount: _withdrawAmount});\n",
        "        }\n",
        "    }\n",
        "}\n",
        "```"
      ]
    },
    {
      "cell_type": "markdown",
      "metadata": {
        "id": "v96u24jkUBeg"
      },
      "source": [
        "### Calling Other Contract\n",
        "contract互相调用有两种方式：\n",
        "\n",
        "- A.foo(x, y, z).\n",
        "- call. 不被建议\n",
        "\n",
        "```solidity\n",
        "contract Callee {\n",
        "    uint public x;\n",
        "    uint public value;\n",
        "    function setX(uint _x) public returns (uint) {\n",
        "        x = _x;\n",
        "        return x;\n",
        "    }\n",
        "    function setXandSendEther(uint _x) public payable returns (uint, uint) {\n",
        "        x = _x;\n",
        "        value = msg.value;\n",
        "        return (x, value);\n",
        "    }\n",
        "}\n",
        "contract Caller {\n",
        "    function setX(Callee _callee, uint _x) public {\n",
        "        uint x = _callee.setX(_x);\n",
        "    }\n",
        "    function setXFromAddress(address _addr, uint _x) public {\n",
        "        Callee callee = Callee(_addr);\n",
        "        callee.setX(_x);\n",
        "    }\n",
        "    function setXandSendEther(Callee _callee, uint _x) public payable {\n",
        "        (uint x, uint value) = _callee.setXandSendEther{value: msg.value}(_x);\n",
        "    }\n",
        "}\n",
        "```"
      ]
    },
    {
      "cell_type": "markdown",
      "metadata": {
        "id": "H4tbB-yIUBbh"
      },
      "source": [
        "### Contract that Creates other Contracts\n",
        "contract创建contract\n",
        "\n",
        "```solidity\n",
        "contract Car {\n",
        "    address public owner;\n",
        "    string public model;\n",
        "    address public carAddr;\n",
        "    constructor(address _owner, string memory _model) payable {\n",
        "        owner = _owner;\n",
        "        model = _model;\n",
        "        carAddr = address(this);\n",
        "    }\n",
        "}\n",
        "contract CarFactory {\n",
        "    Car[] public cars;\n",
        "    function create(address _owner, string memory _model) public {\n",
        "        Car car = new Car(_owner, _model);\n",
        "        cars.push(car);\n",
        "    }\n",
        "    function createAndSendEther(address _owner, string memory _model) public payable {\n",
        "        Car car = (new Car){value: msg.value}(_owner, _model);\n",
        "        cars.push(car);\n",
        "    }\n",
        "    function create2(address _owner,string memory _model,bytes32 _salt) public {\n",
        "        Car car = (new Car){salt: _salt}(_owner, _model);\n",
        "        cars.push(car);\n",
        "    }\n",
        "    function create2AndSendEther(address _owner,string memory _model,bytes32 _salt) public payable {\n",
        "        Car car = (new Car){value: msg.value, salt: _salt}(_owner, _model);\n",
        "        cars.push(car);\n",
        "    }\n",
        "    function getCar(uint _index)public view returns (address owner,string memory model,address carAddr,uint balance){\n",
        "        Car car = cars[_index];\n",
        "        return (car.owner(), car.model(), car.carAddr(), address(car).balance);\n",
        "    }\n",
        "}\n",
        "```"
      ]
    },
    {
      "cell_type": "markdown",
      "metadata": {
        "id": "LzOCnxl_i8MU"
      },
      "source": [
        "### Contract Inheritance\n",
        "Solidity用`is`支持多重继承。\n",
        "- 被子contract重写的function\n",
        "  1. 父contract声明`virtual`\n",
        "  2. 子contract声明`virtual override`\n",
        "\n",
        "#### example\n",
        "\n",
        "```solidity\n",
        "/* Graph of inheritance\n",
        "    A\n",
        "   / \\\n",
        "  B   C\n",
        " / \\ /\n",
        "F  D,E\n",
        "*/\n",
        "\n",
        "contract A {\n",
        "    function foo() public pure virtual returns (string memory) {\n",
        "        return \"A\";\n",
        "    }\n",
        "}\n",
        "// B继承A\n",
        "contract B is A { // Override A.foo()\n",
        "    function foo() public pure virtual override returns (string memory) {\n",
        "        return \"B\";\n",
        "    }\n",
        "}\n",
        "// C继承A\n",
        "contract C is A { // Override A.foo()\n",
        "    function foo() public pure virtual override returns (string memory) {\n",
        "        return \"C\";\n",
        "    }\n",
        "}\n",
        "\n",
        "// 同一函数被多contract重复定义, 从右到左确定right to left,\n",
        "\n",
        "contract D is B, C {\n",
        "    // D.foo() returns \"C\"，C最右\n",
        "    function foo() public pure override(B, C) returns (string memory) {\n",
        "        return super.foo();\n",
        "    }\n",
        "}\n",
        "contract E is C, B {\n",
        "    // E.foo() returns \"B\"，B最右\n",
        "    function foo() public pure override(C, B) returns (string memory) {\n",
        "        return super.foo();\n",
        "    }\n",
        "}\n",
        "\n",
        "// A、B顺序保持一致\n",
        "contract F is A, B {\n",
        "    function foo() public pure override(A, B) returns (string memory) {\n",
        "        return super.foo();\n",
        "    }\n",
        "}\n",
        "```\n",
        "\n",
        "#### Shadowing Inherited State Variables\n",
        "state variables 继承后不能被重写\n",
        "\n",
        "#### Calling Parent Contracts\n",
        "用`super`调用父contract的方法"
      ]
    },
    {
      "cell_type": "markdown",
      "metadata": {
        "id": "0OFyXq6thIy1"
      },
      "source": [
        "## 其他类型"
      ]
    },
    {
      "cell_type": "markdown",
      "metadata": {
        "id": "mzFS1BLnUBT5"
      },
      "source": [
        "### Library\n",
        "类似库函数，一般被嵌入到contract中，或部署然后其他contract链接上。\n",
        "\n",
        "```solidity\n",
        "library SafeMath {}\n",
        "contract TestSafeMath {\n",
        "    using SafeMath for uint; //使用方式\n",
        "}\n",
        "```"
      ]
    },
    {
      "cell_type": "markdown",
      "metadata": {
        "id": "OERaTTp2LI0-"
      },
      "source": [
        "### Interface\n",
        "声明`Interface`与其他contract交互。类似接口，Interface：\n",
        "\n",
        "- 类似抽象函数，非实现\n",
        "- 可以继承其他interfaces\n",
        "- 必须为`external`\n",
        "- 不能声明`constructor`\n",
        "- 不能声明`state variables`\n",
        "\n",
        "#### example\n",
        "```solidity\n",
        "contract Counter {\n",
        "    uint public count;\n",
        "    function increment() external {\n",
        "        count += 1;\n",
        "    }\n",
        "}\n",
        "\n",
        "interface ICounter {\n",
        "    function count() external view returns (uint);\n",
        "    function increment() external;\n",
        "}\n",
        "contract MyContract { // 实现ICounter\n",
        "    function incrementCounter(address _counter) external {\n",
        "        ICounter(_counter).increment(); //传入address执行该ICounter的increment方法\n",
        "    }\n",
        "    function getCount(address _counter) external view returns (uint) {\n",
        "        return ICounter(_counter).count();\n",
        "    }\n",
        "}\n",
        "\n",
        "// Uniswap example\n",
        "interface UniswapV2Factory {\n",
        "    function getPair(address tokenA, address tokenB) external view returns (address pair);\n",
        "}\n",
        "\n",
        "interface UniswapV2Pair {\n",
        "    function getReserves() external view returns (uint112 reserve0, uint112 reserve1, uint32 blockTimestampLast);\n",
        "}\n",
        "\n",
        "contract UniswapExample {\n",
        "    address private factory = 0x5C69bEe701ef814a2B6a3EDD4B1652CB9cc5aA6f;\n",
        "    address private dai = 0x6B175474E89094C44Da98b954EedeAC495271d0F;\n",
        "    address private weth = 0xC02aaA39b223FE8D0A0e5C4F27eAD9083C756Cc2;\n",
        "\n",
        "    function getTokenReserves() external view returns (uint, uint) {\n",
        "        address pair = UniswapV2Factory(factory).getPair(dai, weth);\n",
        "        (uint reserve0, uint reserve1, ) = UniswapV2Pair(pair).getReserves();\n",
        "        return (reserve0, reserve1);\n",
        "    }\n",
        "}\n",
        "\n",
        "\n",
        "```"
      ]
    },
    {
      "cell_type": "markdown",
      "metadata": {
        "id": "l3wHEedNCPZ5"
      },
      "source": [
        "## Ether Coin\n"
      ]
    },
    {
      "cell_type": "markdown",
      "metadata": {
        "id": "e8pb-fqsLIwV"
      },
      "source": [
        "### Sending Ether\n",
        "发送Ether的方式：\n",
        "- transfer (2300 gas, throws error)\n",
        "- send (2300 gas, returns bool)\n",
        "- call (forward all gas or set gas, returns bool)\n",
        "接收Ether的方式，至少有如下一个函数：\n",
        "- receive() external payable ，msg.data为空\n",
        "- fallback() external payable ，msg.data非空\n",
        "\n",
        "推荐结合**重入守卫**，使用`call`方法。\n",
        "\n",
        "重入守卫的方式：\n",
        "1. 调用其他contract前生效状态改变\n",
        "2. 使用`re-entrancy guard modifier`\n",
        "\n",
        "\n",
        "```solidity\n",
        "contract ReceiveEther {\n",
        "    /*\n",
        "    Which function is called, fallback() or receive()?\n",
        "\n",
        "           send Ether\n",
        "               |\n",
        "         msg.data is empty?\n",
        "              / \\\n",
        "            yes  no\n",
        "            /     \\\n",
        "receive() exists?  fallback()\n",
        "         /   \\\n",
        "        yes   no\n",
        "        /      \\\n",
        "    receive()   fallback()\n",
        "    */\n",
        "    // Function to receive Ether. msg.data must be empty\n",
        "    receive() external payable {}\n",
        "\n",
        "    // Fallback function is called when msg.data is not empty\n",
        "    fallback() external payable {}\n",
        "\n",
        "    function getBalance() public view returns (uint) {\n",
        "        return address(this).balance;\n",
        "    }\n",
        "}\n",
        "\n",
        "contract SendEther {\n",
        "    function sendViaTransfer(address payable _to) public payable {\n",
        "        _to.transfer(msg.value); //not recommended\n",
        "    }\n",
        "    function sendViaSend(address payable _to) public payable {\n",
        "        bool sent = _to.send(msg.value);  //not recommended\n",
        "        require(sent, \"Failed to send Ether\");\n",
        "    }\n",
        "    function sendViaCall(address payable _to) public payable {  // recommended\n",
        "        (bool sent, bytes memory data) = _to.call{value: msg.value}(\"\");\n",
        "        require(sent, \"Failed to send Ether\");\n",
        "    }\n",
        "}\n",
        "```"
      ]
    },
    {
      "cell_type": "markdown",
      "metadata": {
        "id": "zlhxvlivCPZ5"
      },
      "source": [
        "### ether and wei\n",
        "单位 1 ehter == 1e18 wei\n",
        "\n",
        "- uint public oneWei = 1 wei; //1 wei is equal to 1\n",
        "- uint public oneEther = 1 ether; // 1 ether is equal to 10^18 wei\n"
      ]
    },
    {
      "cell_type": "markdown",
      "metadata": {
        "id": "gzuAwnCmCPZ5"
      },
      "source": [
        "### Gas计算\n",
        "**gas = gas spent * gas price  ether**\n",
        "\n",
        "- `gas spent` 交易中花费的gas总量\n",
        "- `gas price` gas单价\n",
        "\n",
        "区块中，`gas price`越高有更高的优先权，未用完退回。\n",
        "\n",
        "#### Gas Limit\n",
        "花费gas的上下界\n",
        "\n",
        "- `gas limit` 交易时最大gas量，自定义设定\n",
        "- `block gas limit` 块中允许的最大gas量, 私链设定"
      ]
    },
    {
      "cell_type": "markdown",
      "metadata": {
        "id": "fY9-1V23LIrb"
      },
      "source": [
        "### Gas Saving Techniques\n",
        "一些节省gas的技术：\n",
        "- 用calldata替换内存存储\n",
        "- 将state variable以memory载入\n",
        "- 用`++i`替换循环`i++`\n",
        "- 缓存数组元素\n",
        "- 缩短链路"
      ]
    },
    {
      "cell_type": "markdown",
      "metadata": {
        "id": "S8WEU2m_UBOr"
      },
      "source": [
        "### keccak256\n",
        "计算输入的Keccak-256哈希值：\n",
        "- 把输入转为离散非重id\n",
        "- Commit-Reveal scheme\n",
        "- 压缩加密签名\n"
      ]
    },
    {
      "cell_type": "markdown",
      "metadata": {
        "id": "UJCAWK7sCPZ5"
      },
      "source": []
    },
    {
      "cell_type": "markdown",
      "metadata": {
        "id": "dGKdrEFuG-gB"
      },
      "source": []
    },
    {
      "cell_type": "markdown",
      "metadata": {
        "id": "qArhhMuhG-eA"
      },
      "source": []
    },
    {
      "cell_type": "markdown",
      "metadata": {
        "id": "1ms141cTG-b3"
      },
      "source": []
    },
    {
      "cell_type": "markdown",
      "metadata": {
        "id": "UR1QKj_VG-Zx"
      },
      "source": []
    },
    {
      "cell_type": "markdown",
      "metadata": {
        "id": "jTw6ESwgG-Xi"
      },
      "source": []
    },
    {
      "cell_type": "markdown",
      "metadata": {
        "id": "OT-NPlYHG-Va"
      },
      "source": []
    },
    {
      "cell_type": "markdown",
      "metadata": {
        "id": "EoBuSGIqG-TA"
      },
      "source": []
    },
    {
      "cell_type": "markdown",
      "metadata": {
        "id": "ODUnmCLKG-Ql"
      },
      "source": []
    },
    {
      "cell_type": "markdown",
      "metadata": {
        "id": "0QWUyyzWCPZ6"
      },
      "source": []
    },
    {
      "cell_type": "markdown",
      "metadata": {
        "id": "ZmLqv4W1CPZ6"
      },
      "source": [
        "\n"
      ]
    },
    {
      "cell_type": "markdown",
      "metadata": {
        "id": "-k2upzkKCPZ6"
      },
      "source": []
    },
    {
      "cell_type": "markdown",
      "metadata": {
        "id": "WbgCRYYJCPZ6"
      },
      "source": []
    },
    {
      "cell_type": "markdown",
      "metadata": {
        "id": "CIxuuWl2CPZ6"
      },
      "source": []
    },
    {
      "cell_type": "markdown",
      "metadata": {
        "id": "nfQKWTMCCPZ6"
      },
      "source": []
    }
  ],
  "metadata": {
    "colab": {
      "collapsed_sections": [],
      "name": "solidity_language.ipynb",
      "provenance": [],
      "toc_visible": true
    },
    "language_info": {
      "name": "python"
    },
    "orig_nbformat": 4
  },
  "nbformat": 4,
  "nbformat_minor": 0
}
