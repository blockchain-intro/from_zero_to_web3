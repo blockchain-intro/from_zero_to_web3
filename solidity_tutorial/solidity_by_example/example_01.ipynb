{
 "cells": [
  {
   "cell_type": "code",
   "execution_count": 1,
   "metadata": {},
   "outputs": [],
   "source": [
    "import json\n",
    "from solcx import compile_source"
   ]
  },
  {
   "cell_type": "code",
   "execution_count": 2,
   "metadata": {},
   "outputs": [],
   "source": [
    "compiled_sol = compile_source(\n",
    "     '''\n",
    "     pragma solidity >0.5.0;\n",
    "\n",
    "     contract Greeter {\n",
    "         string public greeting;\n",
    "\n",
    "         constructor() public {\n",
    "             greeting = 'Hello';\n",
    "         }\n",
    "\n",
    "         function setGreeting(string memory _greeting) public {\n",
    "             greeting = _greeting;\n",
    "         }\n",
    "\n",
    "         function greet() view public returns (string memory) {\n",
    "             return greeting;\n",
    "         }\n",
    "     }\n",
    "     ''',\n",
    "     output_values=['abi', 'bin']\n",
    " )\n",
    "\n",
    "contract_id, contract_interface = compiled_sol.popitem()\n",
    "# contract_id, contract_interface"
   ]
  },
  {
   "cell_type": "code",
   "execution_count": 3,
   "metadata": {},
   "outputs": [
    {
     "data": {
      "text/plain": [
       "[{'inputs': [], 'stateMutability': 'nonpayable', 'type': 'constructor'},\n",
       " {'inputs': [],\n",
       "  'name': 'greet',\n",
       "  'outputs': [{'internalType': 'string', 'name': '', 'type': 'string'}],\n",
       "  'stateMutability': 'view',\n",
       "  'type': 'function'},\n",
       " {'inputs': [],\n",
       "  'name': 'greeting',\n",
       "  'outputs': [{'internalType': 'string', 'name': '', 'type': 'string'}],\n",
       "  'stateMutability': 'view',\n",
       "  'type': 'function'},\n",
       " {'inputs': [{'internalType': 'string',\n",
       "    'name': '_greeting',\n",
       "    'type': 'string'}],\n",
       "  'name': 'setGreeting',\n",
       "  'outputs': [],\n",
       "  'stateMutability': 'nonpayable',\n",
       "  'type': 'function'}]"
      ]
     },
     "execution_count": 3,
     "metadata": {},
     "output_type": "execute_result"
    }
   ],
   "source": [
    "bytecode = contract_interface['bin']\n",
    "abi = contract_interface['abi']\n",
    "abi"
   ]
  },
  {
   "cell_type": "code",
   "execution_count": 4,
   "metadata": {},
   "outputs": [
    {
     "data": {
      "text/plain": [
       "549"
      ]
     },
     "execution_count": 4,
     "metadata": {},
     "output_type": "execute_result"
    }
   ],
   "source": [
    "open(f'res_dir/s1_abi.txt', 'w').write(json.dumps(abi))"
   ]
  },
  {
   "cell_type": "code",
   "execution_count": null,
   "metadata": {},
   "outputs": [],
   "source": []
  },
  {
   "cell_type": "code",
   "execution_count": 5,
   "metadata": {},
   "outputs": [],
   "source": [
    "compiled_sol = compile_source(\n",
    "    '''\n",
    "    pragma solidity >0.5.0;\n",
    "    \n",
    "    contract HelloWorld{\n",
    "        uint public balance;\n",
    "        \n",
    "        function update(uint amount) public returns (address, uint){\n",
    "            balance += amount;\n",
    "            return (msg.sender, balance);\n",
    "        }\n",
    "    }\n",
    "     ''',\n",
    "     output_values=['abi', 'bin']\n",
    " )\n",
    "\n",
    "ct_id, ct = compiled_sol.popitem()"
   ]
  },
  {
   "cell_type": "code",
   "execution_count": 6,
   "metadata": {},
   "outputs": [
    {
     "data": {
      "text/plain": [
       "('<stdin>:HelloWorld',\n",
       " {'abi': [{'inputs': [],\n",
       "    'name': 'balance',\n",
       "    'outputs': [{'internalType': 'uint256', 'name': '', 'type': 'uint256'}],\n",
       "    'stateMutability': 'view',\n",
       "    'type': 'function'},\n",
       "   {'inputs': [{'internalType': 'uint256',\n",
       "      'name': 'amount',\n",
       "      'type': 'uint256'}],\n",
       "    'name': 'update',\n",
       "    'outputs': [{'internalType': 'address', 'name': '', 'type': 'address'},\n",
       "     {'internalType': 'uint256', 'name': '', 'type': 'uint256'}],\n",
       "    'stateMutability': 'nonpayable',\n",
       "    'type': 'function'}],\n",
       "  'bin': '608060405234801561001057600080fd5b5061026f806100206000396000f3fe608060405234801561001057600080fd5b50600436106100365760003560e01c806382ab890a1461003b578063b69ef8a81461006c575b600080fd5b610055600480360381019061005091906100f3565b61008a565b604051610063929190610170565b60405180910390f35b6100746100b2565b6040516100819190610199565b60405180910390f35b6000808260008082825461009e91906101e3565b925050819055503360005491509150915091565b60005481565b600080fd5b6000819050919050565b6100d0816100bd565b81146100db57600080fd5b50565b6000813590506100ed816100c7565b92915050565b600060208284031215610109576101086100b8565b5b6000610117848285016100de565b91505092915050565b600073ffffffffffffffffffffffffffffffffffffffff82169050919050565b600061014b82610120565b9050919050565b61015b81610140565b82525050565b61016a816100bd565b82525050565b60006040820190506101856000830185610152565b6101926020830184610161565b9392505050565b60006020820190506101ae6000830184610161565b92915050565b7f4e487b7100000000000000000000000000000000000000000000000000000000600052601160045260246000fd5b60006101ee826100bd565b91506101f9836100bd565b9250827fffffffffffffffffffffffffffffffffffffffffffffffffffffffffffffffff0382111561022e5761022d6101b4565b5b82820190509291505056fea2646970667358221220520f03f61ca5a1c62c105d6e8c1c8a2ae99db69d83810cfa3fc929b755ecd3c064736f6c634300080f0033'})"
      ]
     },
     "execution_count": 6,
     "metadata": {},
     "output_type": "execute_result"
    }
   ],
   "source": [
    "ct_id, ct"
   ]
  },
  {
   "cell_type": "code",
   "execution_count": null,
   "metadata": {},
   "outputs": [],
   "source": []
  }
 ],
 "metadata": {
  "kernelspec": {
   "display_name": "Python 3.10.4 64-bit",
   "language": "python",
   "name": "python3"
  },
  "language_info": {
   "codemirror_mode": {
    "name": "ipython",
    "version": 3
   },
   "file_extension": ".py",
   "mimetype": "text/x-python",
   "name": "python",
   "nbconvert_exporter": "python",
   "pygments_lexer": "ipython3",
   "version": "3.10.4"
  },
  "orig_nbformat": 4,
  "vscode": {
   "interpreter": {
    "hash": "4f946df053fbf2b937619d3c5458e7af74262f9a954d8797ba0b27400bcafe06"
   }
  }
 },
 "nbformat": 4,
 "nbformat_minor": 2
}
