{
 "cells": [
  {
   "cell_type": "markdown",
   "metadata": {},
   "source": [
    "# 测试Tester\n",
    "使用TesterProvider测试基础API，并进行交易demo"
   ]
  },
  {
   "cell_type": "code",
   "execution_count": 1,
   "metadata": {},
   "outputs": [],
   "source": [
    "from web3 import Web3"
   ]
  },
  {
   "cell_type": "code",
   "execution_count": 2,
   "metadata": {},
   "outputs": [
    {
     "data": {
      "text/plain": [
       "(1000000000000000000000000,\n",
       " ['0x7E5F4552091A69125d5DfCb7b8C2659029395Bdf',\n",
       "  '0x2B5AD5c4795c026514f8317c7a215E218DcCD6cF',\n",
       "  '0x6813Eb9362372EEF6200f3b1dbC3f819671cBA69',\n",
       "  '0x1efF47bc3a10a45D4B230B5d10E37751FE6AA718',\n",
       "  '0xe1AB8145F7E55DC933d51a18c793F901A3A0b276',\n",
       "  '0xE57bFE9F44b819898F47BF37E5AF72a0783e1141',\n",
       "  '0xd41c057fd1c78805AAC12B0A94a405c0461A6FBb',\n",
       "  '0xF1F6619B38A98d6De0800F1DefC0a6399eB6d30C',\n",
       "  '0xF7Edc8FA1eCc32967F827C9043FcAe6ba73afA5c',\n",
       "  '0x4CCeBa2d7D2B4fdcE4304d3e09a1fea9fbEb1528'],\n",
       " Decimal('1000000'))"
      ]
     },
     "execution_count": 2,
     "metadata": {},
     "output_type": "execute_result"
    }
   ],
   "source": [
    "w3 = Web3(Web3.EthereumTesterProvider())\n",
    "acct_one = w3.eth.accounts[0]\n",
    "w3.eth.get_balance(acct_one), w3.eth.accounts, w3.fromWei(w3.eth.get_balance(acct_one),'ether')"
   ]
  },
  {
   "cell_type": "code",
   "execution_count": 3,
   "metadata": {},
   "outputs": [
    {
     "data": {
      "text/plain": [
       "('0x90B56951c8573D87cBeCae72052409c7c1A3FAe5',\n",
       " HexBytes('0xc4610299118ff9b639ae67439145c7f908de88d37d3cae91fcd960ab39419c12'),\n",
       " 0)"
      ]
     },
     "execution_count": 3,
     "metadata": {},
     "output_type": "execute_result"
    }
   ],
   "source": [
    "acct_two = w3.eth.account.create()\n",
    "acct_two.address, acct_two.key, w3.eth.get_balance(acct_two.address)"
   ]
  },
  {
   "cell_type": "markdown",
   "metadata": {},
   "source": [
    "## 测试交易1"
   ]
  },
  {
   "cell_type": "code",
   "execution_count": 4,
   "metadata": {},
   "outputs": [
    {
     "data": {
      "text/plain": [
       "HexBytes('0x340b8f17c4c5d8c7755140775132d923fd8f0c12129bc0425cc8cde9d015d8a6')"
      ]
     },
     "execution_count": 4,
     "metadata": {},
     "output_type": "execute_result"
    }
   ],
   "source": [
    "tx_hash = w3.eth.send_transaction({\n",
    "\t  'from': acct_one,\n",
    "\t  'to': acct_two.address,\n",
    "\t  'value': Web3.toWei(1, 'ether')\n",
    "\t})\n",
    "tx_hash"
   ]
  },
  {
   "cell_type": "code",
   "execution_count": 5,
   "metadata": {},
   "outputs": [
    {
     "data": {
      "text/plain": [
       "(999998999979000000000000, 1000000000000000000)"
      ]
     },
     "execution_count": 5,
     "metadata": {},
     "output_type": "execute_result"
    }
   ],
   "source": [
    "w3.eth.get_balance(acct_one),w3.eth.get_balance(acct_two.address)"
   ]
  },
  {
   "cell_type": "markdown",
   "metadata": {},
   "source": [
    "## 测试交易2"
   ]
  },
  {
   "cell_type": "code",
   "execution_count": 6,
   "metadata": {},
   "outputs": [
    {
     "data": {
      "text/plain": [
       "HexBytes('0x5dbfa7b44571773599f9eac15167714a82dc0d1c98e977740a76e7413d5f5e98')"
      ]
     },
     "execution_count": 6,
     "metadata": {},
     "output_type": "execute_result"
    }
   ],
   "source": [
    "tx = {\n",
    "          'to': acct_one,\n",
    "          'value': 10000000,\n",
    "          'gas': 21000,\n",
    "          'gasPrice': w3.eth.get_block('pending')['baseFeePerGas'],\n",
    "          'nonce': 0\n",
    "        }\n",
    "\n",
    "# 2) 用私钥签名交易\n",
    "signed = w3.eth.account.sign_transaction(tx, acct_two.key)\n",
    "\n",
    "# 3) 发送”raw“ 原始交易\n",
    "tx_hash = w3.eth.send_raw_transaction(signed.rawTransaction)\n",
    "tx_hash"
   ]
  },
  {
   "cell_type": "code",
   "execution_count": 7,
   "metadata": {},
   "outputs": [
    {
     "data": {
      "text/plain": [
       "(999998999979000010000000, 999983918652483000)"
      ]
     },
     "execution_count": 7,
     "metadata": {},
     "output_type": "execute_result"
    }
   ],
   "source": [
    "w3.eth.get_balance(acct_one),w3.eth.get_balance(acct_two.address)"
   ]
  }
 ],
 "metadata": {
  "kernelspec": {
   "display_name": "Python 3.10.4 64-bit",
   "language": "python",
   "name": "python3"
  },
  "language_info": {
   "codemirror_mode": {
    "name": "ipython",
    "version": 3
   },
   "file_extension": ".py",
   "mimetype": "text/x-python",
   "name": "python",
   "nbconvert_exporter": "python",
   "pygments_lexer": "ipython3",
   "version": "3.10.4"
  },
  "orig_nbformat": 4,
  "vscode": {
   "interpreter": {
    "hash": "4f946df053fbf2b937619d3c5458e7af74262f9a954d8797ba0b27400bcafe06"
   }
  }
 },
 "nbformat": 4,
 "nbformat_minor": 2
}
